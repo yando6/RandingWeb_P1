{
  "nbformat": 4,
  "nbformat_minor": 0,
  "metadata": {
    "colab": {
      "provenance": [],
      "include_colab_link": true
    },
    "kernelspec": {
      "name": "python3",
      "display_name": "Python 3"
    },
    "language_info": {
      "name": "python"
    }
  },
  "cells": [
    {
      "cell_type": "markdown",
      "metadata": {
        "id": "view-in-github",
        "colab_type": "text"
      },
      "source": [
        "<a href=\"https://colab.research.google.com/github/yando6/RandingWeb_P1/blob/main/A_2109116016_Posttest_1.ipynb\" target=\"_parent\"><img src=\"https://colab.research.google.com/assets/colab-badge.svg\" alt=\"Open In Colab\"/></a>"
      ]
    },
    {
      "cell_type": "markdown",
      "source": [
        "<h1>Posttest Praktikum Sistem Informasi </h1>\n",
        "\n",
        "NIM **2109116016**\n",
        "\n",
        "NAMA **MUHAMMAD FATHAN HARI**\n",
        "\n",
        "> Kerjakanlah tugas berikut berdasarkan instruksi yang diberkan. Kumpulkanlah hasil posttest ini pada Github dengan mengumpulkan link repository kalian.\n",
        "\n",
        "Disini ada dua jenis tugas.\n",
        "\n",
        "1. Visualisasi\n",
        "2. Penerapan Algoritma Naive Bayes\n",
        "\n",
        "\n",
        "Ketentuan pengumpulan tugas :\n",
        "1. Kumpul Tugas ini dengan Format Kelas_NIM_Posttest 1.ipynb\n",
        "2. Kumpulkan dalam bentuk link repository github\n",
        "3. Berikan penjelasan untuk setiap blok kode dengan membuat text atau comment pada kodingan\n",
        "4. Untuk bagian penjelasan gausa terlalu panjang. \n",
        "singkat padat dan jelas"
      ],
      "metadata": {
        "id": "W-uS6_66tbij"
      }
    },
    {
      "cell_type": "markdown",
      "source": [
        "## Business Understanding & Data Understanding"
      ],
      "metadata": {
        "id": "m2edIZ4Rzj_Y"
      }
    },
    {
      "cell_type": "markdown",
      "source": [
        "Importlah pandas, seaborn, dan plotly\n",
        "\n",
        "Download dataset dari link ini [**Link Dataset**](https://github.com/fnikolas-r/Data-Mining-Course/blob/main/Pertemuan%202/ChurnBank.csv)\n",
        "\n",
        "\n",
        "\n",
        "\n",
        "Kemudian taruhlah dalam sebuah variabel bernama df\n",
        "\n",
        "\n",
        "*note: kalian dapat menambah blok yang ada*"
      ],
      "metadata": {
        "id": "wxyi84yY7Lla"
      }
    },
    {
      "cell_type": "code",
      "execution_count": 3,
      "metadata": {
        "id": "gxbjtLI5s8pn",
        "colab": {
          "base_uri": "https://localhost:8080/",
          "height": 677
        },
        "outputId": "56aac2c4-edef-453b-b57d-ace7cb332f31"
      },
      "outputs": [
        {
          "output_type": "execute_result",
          "data": {
            "text/plain": [
              "    Unnamed: 0  CLIENTNUM     Attrition_Flag  Customer_Age Gender  \\\n",
              "0         6036  720010608  Attrited Customer            37      M   \n",
              "1         6684  711323283  Attrited Customer            57      M   \n",
              "2         4272  794707083  Attrited Customer            50      M   \n",
              "3         9759  709657533  Attrited Customer            44      M   \n",
              "4         4740  716625033  Attrited Customer            32      F   \n",
              "5         9597  715076358  Attrited Customer            57      M   \n",
              "6         5009  804829533  Attrited Customer            59      M   \n",
              "7         8200  712144158  Attrited Customer            53      F   \n",
              "8         5016  795599883  Attrited Customer            57      F   \n",
              "9         8350  709222008  Attrited Customer            41      M   \n",
              "10        8139  809844108  Existing Customer            48      M   \n",
              "11         176  716264358  Existing Customer            53      M   \n",
              "12        8020  778163508  Existing Customer            37      F   \n",
              "13         357  711857733  Existing Customer            49      M   \n",
              "14        6562  720070383  Existing Customer            41      F   \n",
              "15        4563  809809008  Existing Customer            47      F   \n",
              "16       10084  718161708  Existing Customer            46      F   \n",
              "17        5725  771079833  Existing Customer            40      F   \n",
              "18        2587  711639708  Existing Customer            42      M   \n",
              "19        8226  713700258  Existing Customer            55      F   \n",
              "\n",
              "   Education_Level Marital_Status Income_Category Card_Category  Credit_Limit  \n",
              "0          Unknown         Single     $40K - $60K          Blue       10226.0  \n",
              "1       Uneducated        Married     $60K - $80K          Blue        2527.0  \n",
              "2          College         Single    $80K - $120K          Blue        3495.0  \n",
              "3      High School        Unknown         $120K +          Blue        7793.0  \n",
              "4         Graduate         Single  Less than $40K          Blue        2761.0  \n",
              "5    Post-Graduate        Unknown    $80K - $120K          Blue       23714.0  \n",
              "6      High School         Single     $60K - $80K          Blue       24621.0  \n",
              "7         Graduate         Single  Less than $40K          Blue        2370.0  \n",
              "8       Uneducated        Married         Unknown          Blue        2404.0  \n",
              "9          Unknown         Single    $80K - $120K          Blue        4742.0  \n",
              "10       Doctorate         Single     $60K - $80K          Blue        8086.0  \n",
              "11      Uneducated        Married    $80K - $120K          Blue       26792.0  \n",
              "12     High School        Married         Unknown          Blue        5245.0  \n",
              "13      Uneducated         Single     $60K - $80K          Blue       18584.0  \n",
              "14      Uneducated         Single         Unknown          Blue        2429.0  \n",
              "15        Graduate        Married  Less than $40K          Blue        3111.0  \n",
              "16        Graduate        Married  Less than $40K          Blue        7562.0  \n",
              "17     High School         Single  Less than $40K          Blue        1438.3  \n",
              "18        Graduate         Single     $60K - $80K          Blue        1438.3  \n",
              "19   Post-Graduate        Married         Unknown          Blue        2953.0  "
            ],
            "text/html": [
              "\n",
              "  <div id=\"df-c7fd6730-26b0-415d-9958-76d97a242355\">\n",
              "    <div class=\"colab-df-container\">\n",
              "      <div>\n",
              "<style scoped>\n",
              "    .dataframe tbody tr th:only-of-type {\n",
              "        vertical-align: middle;\n",
              "    }\n",
              "\n",
              "    .dataframe tbody tr th {\n",
              "        vertical-align: top;\n",
              "    }\n",
              "\n",
              "    .dataframe thead th {\n",
              "        text-align: right;\n",
              "    }\n",
              "</style>\n",
              "<table border=\"1\" class=\"dataframe\">\n",
              "  <thead>\n",
              "    <tr style=\"text-align: right;\">\n",
              "      <th></th>\n",
              "      <th>Unnamed: 0</th>\n",
              "      <th>CLIENTNUM</th>\n",
              "      <th>Attrition_Flag</th>\n",
              "      <th>Customer_Age</th>\n",
              "      <th>Gender</th>\n",
              "      <th>Education_Level</th>\n",
              "      <th>Marital_Status</th>\n",
              "      <th>Income_Category</th>\n",
              "      <th>Card_Category</th>\n",
              "      <th>Credit_Limit</th>\n",
              "    </tr>\n",
              "  </thead>\n",
              "  <tbody>\n",
              "    <tr>\n",
              "      <th>0</th>\n",
              "      <td>6036</td>\n",
              "      <td>720010608</td>\n",
              "      <td>Attrited Customer</td>\n",
              "      <td>37</td>\n",
              "      <td>M</td>\n",
              "      <td>Unknown</td>\n",
              "      <td>Single</td>\n",
              "      <td>$40K - $60K</td>\n",
              "      <td>Blue</td>\n",
              "      <td>10226.0</td>\n",
              "    </tr>\n",
              "    <tr>\n",
              "      <th>1</th>\n",
              "      <td>6684</td>\n",
              "      <td>711323283</td>\n",
              "      <td>Attrited Customer</td>\n",
              "      <td>57</td>\n",
              "      <td>M</td>\n",
              "      <td>Uneducated</td>\n",
              "      <td>Married</td>\n",
              "      <td>$60K - $80K</td>\n",
              "      <td>Blue</td>\n",
              "      <td>2527.0</td>\n",
              "    </tr>\n",
              "    <tr>\n",
              "      <th>2</th>\n",
              "      <td>4272</td>\n",
              "      <td>794707083</td>\n",
              "      <td>Attrited Customer</td>\n",
              "      <td>50</td>\n",
              "      <td>M</td>\n",
              "      <td>College</td>\n",
              "      <td>Single</td>\n",
              "      <td>$80K - $120K</td>\n",
              "      <td>Blue</td>\n",
              "      <td>3495.0</td>\n",
              "    </tr>\n",
              "    <tr>\n",
              "      <th>3</th>\n",
              "      <td>9759</td>\n",
              "      <td>709657533</td>\n",
              "      <td>Attrited Customer</td>\n",
              "      <td>44</td>\n",
              "      <td>M</td>\n",
              "      <td>High School</td>\n",
              "      <td>Unknown</td>\n",
              "      <td>$120K +</td>\n",
              "      <td>Blue</td>\n",
              "      <td>7793.0</td>\n",
              "    </tr>\n",
              "    <tr>\n",
              "      <th>4</th>\n",
              "      <td>4740</td>\n",
              "      <td>716625033</td>\n",
              "      <td>Attrited Customer</td>\n",
              "      <td>32</td>\n",
              "      <td>F</td>\n",
              "      <td>Graduate</td>\n",
              "      <td>Single</td>\n",
              "      <td>Less than $40K</td>\n",
              "      <td>Blue</td>\n",
              "      <td>2761.0</td>\n",
              "    </tr>\n",
              "    <tr>\n",
              "      <th>5</th>\n",
              "      <td>9597</td>\n",
              "      <td>715076358</td>\n",
              "      <td>Attrited Customer</td>\n",
              "      <td>57</td>\n",
              "      <td>M</td>\n",
              "      <td>Post-Graduate</td>\n",
              "      <td>Unknown</td>\n",
              "      <td>$80K - $120K</td>\n",
              "      <td>Blue</td>\n",
              "      <td>23714.0</td>\n",
              "    </tr>\n",
              "    <tr>\n",
              "      <th>6</th>\n",
              "      <td>5009</td>\n",
              "      <td>804829533</td>\n",
              "      <td>Attrited Customer</td>\n",
              "      <td>59</td>\n",
              "      <td>M</td>\n",
              "      <td>High School</td>\n",
              "      <td>Single</td>\n",
              "      <td>$60K - $80K</td>\n",
              "      <td>Blue</td>\n",
              "      <td>24621.0</td>\n",
              "    </tr>\n",
              "    <tr>\n",
              "      <th>7</th>\n",
              "      <td>8200</td>\n",
              "      <td>712144158</td>\n",
              "      <td>Attrited Customer</td>\n",
              "      <td>53</td>\n",
              "      <td>F</td>\n",
              "      <td>Graduate</td>\n",
              "      <td>Single</td>\n",
              "      <td>Less than $40K</td>\n",
              "      <td>Blue</td>\n",
              "      <td>2370.0</td>\n",
              "    </tr>\n",
              "    <tr>\n",
              "      <th>8</th>\n",
              "      <td>5016</td>\n",
              "      <td>795599883</td>\n",
              "      <td>Attrited Customer</td>\n",
              "      <td>57</td>\n",
              "      <td>F</td>\n",
              "      <td>Uneducated</td>\n",
              "      <td>Married</td>\n",
              "      <td>Unknown</td>\n",
              "      <td>Blue</td>\n",
              "      <td>2404.0</td>\n",
              "    </tr>\n",
              "    <tr>\n",
              "      <th>9</th>\n",
              "      <td>8350</td>\n",
              "      <td>709222008</td>\n",
              "      <td>Attrited Customer</td>\n",
              "      <td>41</td>\n",
              "      <td>M</td>\n",
              "      <td>Unknown</td>\n",
              "      <td>Single</td>\n",
              "      <td>$80K - $120K</td>\n",
              "      <td>Blue</td>\n",
              "      <td>4742.0</td>\n",
              "    </tr>\n",
              "    <tr>\n",
              "      <th>10</th>\n",
              "      <td>8139</td>\n",
              "      <td>809844108</td>\n",
              "      <td>Existing Customer</td>\n",
              "      <td>48</td>\n",
              "      <td>M</td>\n",
              "      <td>Doctorate</td>\n",
              "      <td>Single</td>\n",
              "      <td>$60K - $80K</td>\n",
              "      <td>Blue</td>\n",
              "      <td>8086.0</td>\n",
              "    </tr>\n",
              "    <tr>\n",
              "      <th>11</th>\n",
              "      <td>176</td>\n",
              "      <td>716264358</td>\n",
              "      <td>Existing Customer</td>\n",
              "      <td>53</td>\n",
              "      <td>M</td>\n",
              "      <td>Uneducated</td>\n",
              "      <td>Married</td>\n",
              "      <td>$80K - $120K</td>\n",
              "      <td>Blue</td>\n",
              "      <td>26792.0</td>\n",
              "    </tr>\n",
              "    <tr>\n",
              "      <th>12</th>\n",
              "      <td>8020</td>\n",
              "      <td>778163508</td>\n",
              "      <td>Existing Customer</td>\n",
              "      <td>37</td>\n",
              "      <td>F</td>\n",
              "      <td>High School</td>\n",
              "      <td>Married</td>\n",
              "      <td>Unknown</td>\n",
              "      <td>Blue</td>\n",
              "      <td>5245.0</td>\n",
              "    </tr>\n",
              "    <tr>\n",
              "      <th>13</th>\n",
              "      <td>357</td>\n",
              "      <td>711857733</td>\n",
              "      <td>Existing Customer</td>\n",
              "      <td>49</td>\n",
              "      <td>M</td>\n",
              "      <td>Uneducated</td>\n",
              "      <td>Single</td>\n",
              "      <td>$60K - $80K</td>\n",
              "      <td>Blue</td>\n",
              "      <td>18584.0</td>\n",
              "    </tr>\n",
              "    <tr>\n",
              "      <th>14</th>\n",
              "      <td>6562</td>\n",
              "      <td>720070383</td>\n",
              "      <td>Existing Customer</td>\n",
              "      <td>41</td>\n",
              "      <td>F</td>\n",
              "      <td>Uneducated</td>\n",
              "      <td>Single</td>\n",
              "      <td>Unknown</td>\n",
              "      <td>Blue</td>\n",
              "      <td>2429.0</td>\n",
              "    </tr>\n",
              "    <tr>\n",
              "      <th>15</th>\n",
              "      <td>4563</td>\n",
              "      <td>809809008</td>\n",
              "      <td>Existing Customer</td>\n",
              "      <td>47</td>\n",
              "      <td>F</td>\n",
              "      <td>Graduate</td>\n",
              "      <td>Married</td>\n",
              "      <td>Less than $40K</td>\n",
              "      <td>Blue</td>\n",
              "      <td>3111.0</td>\n",
              "    </tr>\n",
              "    <tr>\n",
              "      <th>16</th>\n",
              "      <td>10084</td>\n",
              "      <td>718161708</td>\n",
              "      <td>Existing Customer</td>\n",
              "      <td>46</td>\n",
              "      <td>F</td>\n",
              "      <td>Graduate</td>\n",
              "      <td>Married</td>\n",
              "      <td>Less than $40K</td>\n",
              "      <td>Blue</td>\n",
              "      <td>7562.0</td>\n",
              "    </tr>\n",
              "    <tr>\n",
              "      <th>17</th>\n",
              "      <td>5725</td>\n",
              "      <td>771079833</td>\n",
              "      <td>Existing Customer</td>\n",
              "      <td>40</td>\n",
              "      <td>F</td>\n",
              "      <td>High School</td>\n",
              "      <td>Single</td>\n",
              "      <td>Less than $40K</td>\n",
              "      <td>Blue</td>\n",
              "      <td>1438.3</td>\n",
              "    </tr>\n",
              "    <tr>\n",
              "      <th>18</th>\n",
              "      <td>2587</td>\n",
              "      <td>711639708</td>\n",
              "      <td>Existing Customer</td>\n",
              "      <td>42</td>\n",
              "      <td>M</td>\n",
              "      <td>Graduate</td>\n",
              "      <td>Single</td>\n",
              "      <td>$60K - $80K</td>\n",
              "      <td>Blue</td>\n",
              "      <td>1438.3</td>\n",
              "    </tr>\n",
              "    <tr>\n",
              "      <th>19</th>\n",
              "      <td>8226</td>\n",
              "      <td>713700258</td>\n",
              "      <td>Existing Customer</td>\n",
              "      <td>55</td>\n",
              "      <td>F</td>\n",
              "      <td>Post-Graduate</td>\n",
              "      <td>Married</td>\n",
              "      <td>Unknown</td>\n",
              "      <td>Blue</td>\n",
              "      <td>2953.0</td>\n",
              "    </tr>\n",
              "  </tbody>\n",
              "</table>\n",
              "</div>\n",
              "      <button class=\"colab-df-convert\" onclick=\"convertToInteractive('df-c7fd6730-26b0-415d-9958-76d97a242355')\"\n",
              "              title=\"Convert this dataframe to an interactive table.\"\n",
              "              style=\"display:none;\">\n",
              "        \n",
              "  <svg xmlns=\"http://www.w3.org/2000/svg\" height=\"24px\"viewBox=\"0 0 24 24\"\n",
              "       width=\"24px\">\n",
              "    <path d=\"M0 0h24v24H0V0z\" fill=\"none\"/>\n",
              "    <path d=\"M18.56 5.44l.94 2.06.94-2.06 2.06-.94-2.06-.94-.94-2.06-.94 2.06-2.06.94zm-11 1L8.5 8.5l.94-2.06 2.06-.94-2.06-.94L8.5 2.5l-.94 2.06-2.06.94zm10 10l.94 2.06.94-2.06 2.06-.94-2.06-.94-.94-2.06-.94 2.06-2.06.94z\"/><path d=\"M17.41 7.96l-1.37-1.37c-.4-.4-.92-.59-1.43-.59-.52 0-1.04.2-1.43.59L10.3 9.45l-7.72 7.72c-.78.78-.78 2.05 0 2.83L4 21.41c.39.39.9.59 1.41.59.51 0 1.02-.2 1.41-.59l7.78-7.78 2.81-2.81c.8-.78.8-2.07 0-2.86zM5.41 20L4 18.59l7.72-7.72 1.47 1.35L5.41 20z\"/>\n",
              "  </svg>\n",
              "      </button>\n",
              "      \n",
              "  <style>\n",
              "    .colab-df-container {\n",
              "      display:flex;\n",
              "      flex-wrap:wrap;\n",
              "      gap: 12px;\n",
              "    }\n",
              "\n",
              "    .colab-df-convert {\n",
              "      background-color: #E8F0FE;\n",
              "      border: none;\n",
              "      border-radius: 50%;\n",
              "      cursor: pointer;\n",
              "      display: none;\n",
              "      fill: #1967D2;\n",
              "      height: 32px;\n",
              "      padding: 0 0 0 0;\n",
              "      width: 32px;\n",
              "    }\n",
              "\n",
              "    .colab-df-convert:hover {\n",
              "      background-color: #E2EBFA;\n",
              "      box-shadow: 0px 1px 2px rgba(60, 64, 67, 0.3), 0px 1px 3px 1px rgba(60, 64, 67, 0.15);\n",
              "      fill: #174EA6;\n",
              "    }\n",
              "\n",
              "    [theme=dark] .colab-df-convert {\n",
              "      background-color: #3B4455;\n",
              "      fill: #D2E3FC;\n",
              "    }\n",
              "\n",
              "    [theme=dark] .colab-df-convert:hover {\n",
              "      background-color: #434B5C;\n",
              "      box-shadow: 0px 1px 3px 1px rgba(0, 0, 0, 0.15);\n",
              "      filter: drop-shadow(0px 1px 2px rgba(0, 0, 0, 0.3));\n",
              "      fill: #FFFFFF;\n",
              "    }\n",
              "  </style>\n",
              "\n",
              "      <script>\n",
              "        const buttonEl =\n",
              "          document.querySelector('#df-c7fd6730-26b0-415d-9958-76d97a242355 button.colab-df-convert');\n",
              "        buttonEl.style.display =\n",
              "          google.colab.kernel.accessAllowed ? 'block' : 'none';\n",
              "\n",
              "        async function convertToInteractive(key) {\n",
              "          const element = document.querySelector('#df-c7fd6730-26b0-415d-9958-76d97a242355');\n",
              "          const dataTable =\n",
              "            await google.colab.kernel.invokeFunction('convertToInteractive',\n",
              "                                                     [key], {});\n",
              "          if (!dataTable) return;\n",
              "\n",
              "          const docLinkHtml = 'Like what you see? Visit the ' +\n",
              "            '<a target=\"_blank\" href=https://colab.research.google.com/notebooks/data_table.ipynb>data table notebook</a>'\n",
              "            + ' to learn more about interactive tables.';\n",
              "          element.innerHTML = '';\n",
              "          dataTable['output_type'] = 'display_data';\n",
              "          await google.colab.output.renderOutput(dataTable, element);\n",
              "          const docLink = document.createElement('div');\n",
              "          docLink.innerHTML = docLinkHtml;\n",
              "          element.appendChild(docLink);\n",
              "        }\n",
              "      </script>\n",
              "    </div>\n",
              "  </div>\n",
              "  "
            ]
          },
          "metadata": {},
          "execution_count": 3
        }
      ],
      "source": [
        "import pandas as pd\n",
        "import seaborn as sns\n",
        "import plotly as px\n",
        "import numpy as np\n",
        "import matplotlib.pyplot as plt\n",
        "from numpy import nanmean\n",
        "from numpy import nanstd\n",
        "df = pd.read_csv(\"ChurnBank.csv\")\n",
        "df"
      ]
    },
    {
      "cell_type": "markdown",
      "source": [
        "### Business Understanding\n",
        "Disini kamu berandai andai bahwa kamu adalah direktur sebuah perusahaan, kamu menggunakan dataset ini dan akan menggunakan algoritma Naive Bayes untuk perkembangan perusahaan kamu. Jelaskan tujuan penggunaan dataset ini, tujuan perusahaan, serta tujuan dari penggunaan naive bayes (beri penjelasan di text ini)\n",
        "\n",
        "Tujuan dataset:\n",
        "Dataset adalah kumpulan data yang digunakan untuk analisis dan penelitian di berbagai bidang. Tujuannya adalah untuk mempelajari karakteristik dan hubungan antar data, serta memvalidasi dan melatih model atau algoritma. Dataset juga dapat digunakan untuk membuat visualisasi data yang membantu memahami dan menganalisis data secara efektif.\n",
        "\n",
        "Tujuan perusahaan:\n",
        "Berdasarkan dataset tersebut, tujuan perusahaan mungkin adalah untuk menganalisis pelanggan yang telah meninggalkan perusahaan (attrited customer) dan memahami karakteristik mereka seperti usia, jenis kelamin, tingkat pendidikan, status pernikahan, kategori pendapatan, dan batas kredit yang dimiliki. Hal ini dapat membantu perusahaan dalam mengidentifikasi faktor-faktor yang mempengaruhi keputusan pelanggan untuk berpindah ke perusahaan pesaing, serta mengembangkan strategi retensi pelanggan yang lebih efektif.\n",
        "\n",
        "Tujuan penggunaan naive bayes:\n",
        "Dalam kasus ini, Naive Bayes dapat membantu perusahaan dalam mengidentifikasi faktor-faktor yang paling signifikan dalam mempengaruhi attrition pelanggan, sehingga perusahaan dapat mengambil tindakan yang sesuai untuk meminimalkan attrition dan meningkatkan retensi pelanggan. Selain itu, algoritma ini juga dapat membantu perusahaan dalam membangun model prediksi attrition yang lebih akurat, sehingga dapat membantu perusahaan dalam membuat keputusan bisnis yang lebih baik."
      ],
      "metadata": {
        "id": "4zonMQ5M9OxL"
      }
    },
    {
      "cell_type": "markdown",
      "source": [
        "### Data Understanding"
      ],
      "metadata": {
        "id": "Uj2U1K8y-A2J"
      }
    },
    {
      "cell_type": "code",
      "source": [
        "# Dari dataset diatas buatlah dua variabel yang berisi\n",
        "# df1 isinya dataset dengan label target AttiredCustomer\n",
        "# df2 dengan label bukan Attrired customer\n",
        "# df3 dengan tabel untuk usia dibawah 50 tahun\n",
        "# df4 untuk customer yang statusnya itu single\n",
        "\n",
        "df1 = df[df['Attrition_Flag'].str.contains('Attrited Customer')]\n",
        "df2 = df[df['Attrition_Flag'].str.contains('Existing Customer')]\n",
        "df3 = df[df['Customer_Age'] < 50]\n",
        "df4 = df[df['Marital_Status'].str.contains('Single')]\n",
        "df1 "
      ],
      "metadata": {
        "id": "fOe_dNgC7ZVp",
        "colab": {
          "base_uri": "https://localhost:8080/",
          "height": 363
        },
        "outputId": "f00a359c-b1bb-4e31-ceea-eb1b1986f398"
      },
      "execution_count": null,
      "outputs": [
        {
          "output_type": "execute_result",
          "data": {
            "text/plain": [
              "   Unnamed: 0  CLIENTNUM     Attrition_Flag  Customer_Age Gender  \\\n",
              "0        6036  720010608  Attrited Customer            37      M   \n",
              "1        6684  711323283  Attrited Customer            57      M   \n",
              "2        4272  794707083  Attrited Customer            50      M   \n",
              "3        9759  709657533  Attrited Customer            44      M   \n",
              "4        4740  716625033  Attrited Customer            32      F   \n",
              "5        9597  715076358  Attrited Customer            57      M   \n",
              "6        5009  804829533  Attrited Customer            59      M   \n",
              "7        8200  712144158  Attrited Customer            53      F   \n",
              "8        5016  795599883  Attrited Customer            57      F   \n",
              "9        8350  709222008  Attrited Customer            41      M   \n",
              "\n",
              "  Education_Level Marital_Status Income_Category Card_Category  Credit_Limit  \n",
              "0         Unknown         Single     $40K - $60K          Blue       10226.0  \n",
              "1      Uneducated        Married     $60K - $80K          Blue        2527.0  \n",
              "2         College         Single    $80K - $120K          Blue        3495.0  \n",
              "3     High School        Unknown         $120K +          Blue        7793.0  \n",
              "4        Graduate         Single  Less than $40K          Blue        2761.0  \n",
              "5   Post-Graduate        Unknown    $80K - $120K          Blue       23714.0  \n",
              "6     High School         Single     $60K - $80K          Blue       24621.0  \n",
              "7        Graduate         Single  Less than $40K          Blue        2370.0  \n",
              "8      Uneducated        Married         Unknown          Blue        2404.0  \n",
              "9         Unknown         Single    $80K - $120K          Blue        4742.0  "
            ],
            "text/html": [
              "\n",
              "  <div id=\"df-65f64d3e-ff43-4a77-86cf-a8483872cdd7\">\n",
              "    <div class=\"colab-df-container\">\n",
              "      <div>\n",
              "<style scoped>\n",
              "    .dataframe tbody tr th:only-of-type {\n",
              "        vertical-align: middle;\n",
              "    }\n",
              "\n",
              "    .dataframe tbody tr th {\n",
              "        vertical-align: top;\n",
              "    }\n",
              "\n",
              "    .dataframe thead th {\n",
              "        text-align: right;\n",
              "    }\n",
              "</style>\n",
              "<table border=\"1\" class=\"dataframe\">\n",
              "  <thead>\n",
              "    <tr style=\"text-align: right;\">\n",
              "      <th></th>\n",
              "      <th>Unnamed: 0</th>\n",
              "      <th>CLIENTNUM</th>\n",
              "      <th>Attrition_Flag</th>\n",
              "      <th>Customer_Age</th>\n",
              "      <th>Gender</th>\n",
              "      <th>Education_Level</th>\n",
              "      <th>Marital_Status</th>\n",
              "      <th>Income_Category</th>\n",
              "      <th>Card_Category</th>\n",
              "      <th>Credit_Limit</th>\n",
              "    </tr>\n",
              "  </thead>\n",
              "  <tbody>\n",
              "    <tr>\n",
              "      <th>0</th>\n",
              "      <td>6036</td>\n",
              "      <td>720010608</td>\n",
              "      <td>Attrited Customer</td>\n",
              "      <td>37</td>\n",
              "      <td>M</td>\n",
              "      <td>Unknown</td>\n",
              "      <td>Single</td>\n",
              "      <td>$40K - $60K</td>\n",
              "      <td>Blue</td>\n",
              "      <td>10226.0</td>\n",
              "    </tr>\n",
              "    <tr>\n",
              "      <th>1</th>\n",
              "      <td>6684</td>\n",
              "      <td>711323283</td>\n",
              "      <td>Attrited Customer</td>\n",
              "      <td>57</td>\n",
              "      <td>M</td>\n",
              "      <td>Uneducated</td>\n",
              "      <td>Married</td>\n",
              "      <td>$60K - $80K</td>\n",
              "      <td>Blue</td>\n",
              "      <td>2527.0</td>\n",
              "    </tr>\n",
              "    <tr>\n",
              "      <th>2</th>\n",
              "      <td>4272</td>\n",
              "      <td>794707083</td>\n",
              "      <td>Attrited Customer</td>\n",
              "      <td>50</td>\n",
              "      <td>M</td>\n",
              "      <td>College</td>\n",
              "      <td>Single</td>\n",
              "      <td>$80K - $120K</td>\n",
              "      <td>Blue</td>\n",
              "      <td>3495.0</td>\n",
              "    </tr>\n",
              "    <tr>\n",
              "      <th>3</th>\n",
              "      <td>9759</td>\n",
              "      <td>709657533</td>\n",
              "      <td>Attrited Customer</td>\n",
              "      <td>44</td>\n",
              "      <td>M</td>\n",
              "      <td>High School</td>\n",
              "      <td>Unknown</td>\n",
              "      <td>$120K +</td>\n",
              "      <td>Blue</td>\n",
              "      <td>7793.0</td>\n",
              "    </tr>\n",
              "    <tr>\n",
              "      <th>4</th>\n",
              "      <td>4740</td>\n",
              "      <td>716625033</td>\n",
              "      <td>Attrited Customer</td>\n",
              "      <td>32</td>\n",
              "      <td>F</td>\n",
              "      <td>Graduate</td>\n",
              "      <td>Single</td>\n",
              "      <td>Less than $40K</td>\n",
              "      <td>Blue</td>\n",
              "      <td>2761.0</td>\n",
              "    </tr>\n",
              "    <tr>\n",
              "      <th>5</th>\n",
              "      <td>9597</td>\n",
              "      <td>715076358</td>\n",
              "      <td>Attrited Customer</td>\n",
              "      <td>57</td>\n",
              "      <td>M</td>\n",
              "      <td>Post-Graduate</td>\n",
              "      <td>Unknown</td>\n",
              "      <td>$80K - $120K</td>\n",
              "      <td>Blue</td>\n",
              "      <td>23714.0</td>\n",
              "    </tr>\n",
              "    <tr>\n",
              "      <th>6</th>\n",
              "      <td>5009</td>\n",
              "      <td>804829533</td>\n",
              "      <td>Attrited Customer</td>\n",
              "      <td>59</td>\n",
              "      <td>M</td>\n",
              "      <td>High School</td>\n",
              "      <td>Single</td>\n",
              "      <td>$60K - $80K</td>\n",
              "      <td>Blue</td>\n",
              "      <td>24621.0</td>\n",
              "    </tr>\n",
              "    <tr>\n",
              "      <th>7</th>\n",
              "      <td>8200</td>\n",
              "      <td>712144158</td>\n",
              "      <td>Attrited Customer</td>\n",
              "      <td>53</td>\n",
              "      <td>F</td>\n",
              "      <td>Graduate</td>\n",
              "      <td>Single</td>\n",
              "      <td>Less than $40K</td>\n",
              "      <td>Blue</td>\n",
              "      <td>2370.0</td>\n",
              "    </tr>\n",
              "    <tr>\n",
              "      <th>8</th>\n",
              "      <td>5016</td>\n",
              "      <td>795599883</td>\n",
              "      <td>Attrited Customer</td>\n",
              "      <td>57</td>\n",
              "      <td>F</td>\n",
              "      <td>Uneducated</td>\n",
              "      <td>Married</td>\n",
              "      <td>Unknown</td>\n",
              "      <td>Blue</td>\n",
              "      <td>2404.0</td>\n",
              "    </tr>\n",
              "    <tr>\n",
              "      <th>9</th>\n",
              "      <td>8350</td>\n",
              "      <td>709222008</td>\n",
              "      <td>Attrited Customer</td>\n",
              "      <td>41</td>\n",
              "      <td>M</td>\n",
              "      <td>Unknown</td>\n",
              "      <td>Single</td>\n",
              "      <td>$80K - $120K</td>\n",
              "      <td>Blue</td>\n",
              "      <td>4742.0</td>\n",
              "    </tr>\n",
              "  </tbody>\n",
              "</table>\n",
              "</div>\n",
              "      <button class=\"colab-df-convert\" onclick=\"convertToInteractive('df-65f64d3e-ff43-4a77-86cf-a8483872cdd7')\"\n",
              "              title=\"Convert this dataframe to an interactive table.\"\n",
              "              style=\"display:none;\">\n",
              "        \n",
              "  <svg xmlns=\"http://www.w3.org/2000/svg\" height=\"24px\"viewBox=\"0 0 24 24\"\n",
              "       width=\"24px\">\n",
              "    <path d=\"M0 0h24v24H0V0z\" fill=\"none\"/>\n",
              "    <path d=\"M18.56 5.44l.94 2.06.94-2.06 2.06-.94-2.06-.94-.94-2.06-.94 2.06-2.06.94zm-11 1L8.5 8.5l.94-2.06 2.06-.94-2.06-.94L8.5 2.5l-.94 2.06-2.06.94zm10 10l.94 2.06.94-2.06 2.06-.94-2.06-.94-.94-2.06-.94 2.06-2.06.94z\"/><path d=\"M17.41 7.96l-1.37-1.37c-.4-.4-.92-.59-1.43-.59-.52 0-1.04.2-1.43.59L10.3 9.45l-7.72 7.72c-.78.78-.78 2.05 0 2.83L4 21.41c.39.39.9.59 1.41.59.51 0 1.02-.2 1.41-.59l7.78-7.78 2.81-2.81c.8-.78.8-2.07 0-2.86zM5.41 20L4 18.59l7.72-7.72 1.47 1.35L5.41 20z\"/>\n",
              "  </svg>\n",
              "      </button>\n",
              "      \n",
              "  <style>\n",
              "    .colab-df-container {\n",
              "      display:flex;\n",
              "      flex-wrap:wrap;\n",
              "      gap: 12px;\n",
              "    }\n",
              "\n",
              "    .colab-df-convert {\n",
              "      background-color: #E8F0FE;\n",
              "      border: none;\n",
              "      border-radius: 50%;\n",
              "      cursor: pointer;\n",
              "      display: none;\n",
              "      fill: #1967D2;\n",
              "      height: 32px;\n",
              "      padding: 0 0 0 0;\n",
              "      width: 32px;\n",
              "    }\n",
              "\n",
              "    .colab-df-convert:hover {\n",
              "      background-color: #E2EBFA;\n",
              "      box-shadow: 0px 1px 2px rgba(60, 64, 67, 0.3), 0px 1px 3px 1px rgba(60, 64, 67, 0.15);\n",
              "      fill: #174EA6;\n",
              "    }\n",
              "\n",
              "    [theme=dark] .colab-df-convert {\n",
              "      background-color: #3B4455;\n",
              "      fill: #D2E3FC;\n",
              "    }\n",
              "\n",
              "    [theme=dark] .colab-df-convert:hover {\n",
              "      background-color: #434B5C;\n",
              "      box-shadow: 0px 1px 3px 1px rgba(0, 0, 0, 0.15);\n",
              "      filter: drop-shadow(0px 1px 2px rgba(0, 0, 0, 0.3));\n",
              "      fill: #FFFFFF;\n",
              "    }\n",
              "  </style>\n",
              "\n",
              "      <script>\n",
              "        const buttonEl =\n",
              "          document.querySelector('#df-65f64d3e-ff43-4a77-86cf-a8483872cdd7 button.colab-df-convert');\n",
              "        buttonEl.style.display =\n",
              "          google.colab.kernel.accessAllowed ? 'block' : 'none';\n",
              "\n",
              "        async function convertToInteractive(key) {\n",
              "          const element = document.querySelector('#df-65f64d3e-ff43-4a77-86cf-a8483872cdd7');\n",
              "          const dataTable =\n",
              "            await google.colab.kernel.invokeFunction('convertToInteractive',\n",
              "                                                     [key], {});\n",
              "          if (!dataTable) return;\n",
              "\n",
              "          const docLinkHtml = 'Like what you see? Visit the ' +\n",
              "            '<a target=\"_blank\" href=https://colab.research.google.com/notebooks/data_table.ipynb>data table notebook</a>'\n",
              "            + ' to learn more about interactive tables.';\n",
              "          element.innerHTML = '';\n",
              "          dataTable['output_type'] = 'display_data';\n",
              "          await google.colab.output.renderOutput(dataTable, element);\n",
              "          const docLink = document.createElement('div');\n",
              "          docLink.innerHTML = docLinkHtml;\n",
              "          element.appendChild(docLink);\n",
              "        }\n",
              "      </script>\n",
              "    </div>\n",
              "  </div>\n",
              "  "
            ]
          },
          "metadata": {},
          "execution_count": 5
        }
      ]
    },
    {
      "cell_type": "code",
      "source": [
        "df2"
      ],
      "metadata": {
        "colab": {
          "base_uri": "https://localhost:8080/",
          "height": 363
        },
        "id": "m5B9oJDqcgLG",
        "outputId": "86979650-dd5b-4cf1-82bf-ba88ffef7c70"
      },
      "execution_count": null,
      "outputs": [
        {
          "output_type": "execute_result",
          "data": {
            "text/plain": [
              "    Unnamed: 0  CLIENTNUM     Attrition_Flag  Customer_Age Gender  \\\n",
              "10        8139  809844108  Existing Customer            48      M   \n",
              "11         176  716264358  Existing Customer            53      M   \n",
              "12        8020  778163508  Existing Customer            37      F   \n",
              "13         357  711857733  Existing Customer            49      M   \n",
              "14        6562  720070383  Existing Customer            41      F   \n",
              "15        4563  809809008  Existing Customer            47      F   \n",
              "16       10084  718161708  Existing Customer            46      F   \n",
              "17        5725  771079833  Existing Customer            40      F   \n",
              "18        2587  711639708  Existing Customer            42      M   \n",
              "19        8226  713700258  Existing Customer            55      F   \n",
              "\n",
              "   Education_Level Marital_Status Income_Category Card_Category  Credit_Limit  \n",
              "10       Doctorate         Single     $60K - $80K          Blue        8086.0  \n",
              "11      Uneducated        Married    $80K - $120K          Blue       26792.0  \n",
              "12     High School        Married         Unknown          Blue        5245.0  \n",
              "13      Uneducated         Single     $60K - $80K          Blue       18584.0  \n",
              "14      Uneducated         Single         Unknown          Blue        2429.0  \n",
              "15        Graduate        Married  Less than $40K          Blue        3111.0  \n",
              "16        Graduate        Married  Less than $40K          Blue        7562.0  \n",
              "17     High School         Single  Less than $40K          Blue        1438.3  \n",
              "18        Graduate         Single     $60K - $80K          Blue        1438.3  \n",
              "19   Post-Graduate        Married         Unknown          Blue        2953.0  "
            ],
            "text/html": [
              "\n",
              "  <div id=\"df-b985bebf-4d78-4a7b-af75-c0fe775774b4\">\n",
              "    <div class=\"colab-df-container\">\n",
              "      <div>\n",
              "<style scoped>\n",
              "    .dataframe tbody tr th:only-of-type {\n",
              "        vertical-align: middle;\n",
              "    }\n",
              "\n",
              "    .dataframe tbody tr th {\n",
              "        vertical-align: top;\n",
              "    }\n",
              "\n",
              "    .dataframe thead th {\n",
              "        text-align: right;\n",
              "    }\n",
              "</style>\n",
              "<table border=\"1\" class=\"dataframe\">\n",
              "  <thead>\n",
              "    <tr style=\"text-align: right;\">\n",
              "      <th></th>\n",
              "      <th>Unnamed: 0</th>\n",
              "      <th>CLIENTNUM</th>\n",
              "      <th>Attrition_Flag</th>\n",
              "      <th>Customer_Age</th>\n",
              "      <th>Gender</th>\n",
              "      <th>Education_Level</th>\n",
              "      <th>Marital_Status</th>\n",
              "      <th>Income_Category</th>\n",
              "      <th>Card_Category</th>\n",
              "      <th>Credit_Limit</th>\n",
              "    </tr>\n",
              "  </thead>\n",
              "  <tbody>\n",
              "    <tr>\n",
              "      <th>10</th>\n",
              "      <td>8139</td>\n",
              "      <td>809844108</td>\n",
              "      <td>Existing Customer</td>\n",
              "      <td>48</td>\n",
              "      <td>M</td>\n",
              "      <td>Doctorate</td>\n",
              "      <td>Single</td>\n",
              "      <td>$60K - $80K</td>\n",
              "      <td>Blue</td>\n",
              "      <td>8086.0</td>\n",
              "    </tr>\n",
              "    <tr>\n",
              "      <th>11</th>\n",
              "      <td>176</td>\n",
              "      <td>716264358</td>\n",
              "      <td>Existing Customer</td>\n",
              "      <td>53</td>\n",
              "      <td>M</td>\n",
              "      <td>Uneducated</td>\n",
              "      <td>Married</td>\n",
              "      <td>$80K - $120K</td>\n",
              "      <td>Blue</td>\n",
              "      <td>26792.0</td>\n",
              "    </tr>\n",
              "    <tr>\n",
              "      <th>12</th>\n",
              "      <td>8020</td>\n",
              "      <td>778163508</td>\n",
              "      <td>Existing Customer</td>\n",
              "      <td>37</td>\n",
              "      <td>F</td>\n",
              "      <td>High School</td>\n",
              "      <td>Married</td>\n",
              "      <td>Unknown</td>\n",
              "      <td>Blue</td>\n",
              "      <td>5245.0</td>\n",
              "    </tr>\n",
              "    <tr>\n",
              "      <th>13</th>\n",
              "      <td>357</td>\n",
              "      <td>711857733</td>\n",
              "      <td>Existing Customer</td>\n",
              "      <td>49</td>\n",
              "      <td>M</td>\n",
              "      <td>Uneducated</td>\n",
              "      <td>Single</td>\n",
              "      <td>$60K - $80K</td>\n",
              "      <td>Blue</td>\n",
              "      <td>18584.0</td>\n",
              "    </tr>\n",
              "    <tr>\n",
              "      <th>14</th>\n",
              "      <td>6562</td>\n",
              "      <td>720070383</td>\n",
              "      <td>Existing Customer</td>\n",
              "      <td>41</td>\n",
              "      <td>F</td>\n",
              "      <td>Uneducated</td>\n",
              "      <td>Single</td>\n",
              "      <td>Unknown</td>\n",
              "      <td>Blue</td>\n",
              "      <td>2429.0</td>\n",
              "    </tr>\n",
              "    <tr>\n",
              "      <th>15</th>\n",
              "      <td>4563</td>\n",
              "      <td>809809008</td>\n",
              "      <td>Existing Customer</td>\n",
              "      <td>47</td>\n",
              "      <td>F</td>\n",
              "      <td>Graduate</td>\n",
              "      <td>Married</td>\n",
              "      <td>Less than $40K</td>\n",
              "      <td>Blue</td>\n",
              "      <td>3111.0</td>\n",
              "    </tr>\n",
              "    <tr>\n",
              "      <th>16</th>\n",
              "      <td>10084</td>\n",
              "      <td>718161708</td>\n",
              "      <td>Existing Customer</td>\n",
              "      <td>46</td>\n",
              "      <td>F</td>\n",
              "      <td>Graduate</td>\n",
              "      <td>Married</td>\n",
              "      <td>Less than $40K</td>\n",
              "      <td>Blue</td>\n",
              "      <td>7562.0</td>\n",
              "    </tr>\n",
              "    <tr>\n",
              "      <th>17</th>\n",
              "      <td>5725</td>\n",
              "      <td>771079833</td>\n",
              "      <td>Existing Customer</td>\n",
              "      <td>40</td>\n",
              "      <td>F</td>\n",
              "      <td>High School</td>\n",
              "      <td>Single</td>\n",
              "      <td>Less than $40K</td>\n",
              "      <td>Blue</td>\n",
              "      <td>1438.3</td>\n",
              "    </tr>\n",
              "    <tr>\n",
              "      <th>18</th>\n",
              "      <td>2587</td>\n",
              "      <td>711639708</td>\n",
              "      <td>Existing Customer</td>\n",
              "      <td>42</td>\n",
              "      <td>M</td>\n",
              "      <td>Graduate</td>\n",
              "      <td>Single</td>\n",
              "      <td>$60K - $80K</td>\n",
              "      <td>Blue</td>\n",
              "      <td>1438.3</td>\n",
              "    </tr>\n",
              "    <tr>\n",
              "      <th>19</th>\n",
              "      <td>8226</td>\n",
              "      <td>713700258</td>\n",
              "      <td>Existing Customer</td>\n",
              "      <td>55</td>\n",
              "      <td>F</td>\n",
              "      <td>Post-Graduate</td>\n",
              "      <td>Married</td>\n",
              "      <td>Unknown</td>\n",
              "      <td>Blue</td>\n",
              "      <td>2953.0</td>\n",
              "    </tr>\n",
              "  </tbody>\n",
              "</table>\n",
              "</div>\n",
              "      <button class=\"colab-df-convert\" onclick=\"convertToInteractive('df-b985bebf-4d78-4a7b-af75-c0fe775774b4')\"\n",
              "              title=\"Convert this dataframe to an interactive table.\"\n",
              "              style=\"display:none;\">\n",
              "        \n",
              "  <svg xmlns=\"http://www.w3.org/2000/svg\" height=\"24px\"viewBox=\"0 0 24 24\"\n",
              "       width=\"24px\">\n",
              "    <path d=\"M0 0h24v24H0V0z\" fill=\"none\"/>\n",
              "    <path d=\"M18.56 5.44l.94 2.06.94-2.06 2.06-.94-2.06-.94-.94-2.06-.94 2.06-2.06.94zm-11 1L8.5 8.5l.94-2.06 2.06-.94-2.06-.94L8.5 2.5l-.94 2.06-2.06.94zm10 10l.94 2.06.94-2.06 2.06-.94-2.06-.94-.94-2.06-.94 2.06-2.06.94z\"/><path d=\"M17.41 7.96l-1.37-1.37c-.4-.4-.92-.59-1.43-.59-.52 0-1.04.2-1.43.59L10.3 9.45l-7.72 7.72c-.78.78-.78 2.05 0 2.83L4 21.41c.39.39.9.59 1.41.59.51 0 1.02-.2 1.41-.59l7.78-7.78 2.81-2.81c.8-.78.8-2.07 0-2.86zM5.41 20L4 18.59l7.72-7.72 1.47 1.35L5.41 20z\"/>\n",
              "  </svg>\n",
              "      </button>\n",
              "      \n",
              "  <style>\n",
              "    .colab-df-container {\n",
              "      display:flex;\n",
              "      flex-wrap:wrap;\n",
              "      gap: 12px;\n",
              "    }\n",
              "\n",
              "    .colab-df-convert {\n",
              "      background-color: #E8F0FE;\n",
              "      border: none;\n",
              "      border-radius: 50%;\n",
              "      cursor: pointer;\n",
              "      display: none;\n",
              "      fill: #1967D2;\n",
              "      height: 32px;\n",
              "      padding: 0 0 0 0;\n",
              "      width: 32px;\n",
              "    }\n",
              "\n",
              "    .colab-df-convert:hover {\n",
              "      background-color: #E2EBFA;\n",
              "      box-shadow: 0px 1px 2px rgba(60, 64, 67, 0.3), 0px 1px 3px 1px rgba(60, 64, 67, 0.15);\n",
              "      fill: #174EA6;\n",
              "    }\n",
              "\n",
              "    [theme=dark] .colab-df-convert {\n",
              "      background-color: #3B4455;\n",
              "      fill: #D2E3FC;\n",
              "    }\n",
              "\n",
              "    [theme=dark] .colab-df-convert:hover {\n",
              "      background-color: #434B5C;\n",
              "      box-shadow: 0px 1px 3px 1px rgba(0, 0, 0, 0.15);\n",
              "      filter: drop-shadow(0px 1px 2px rgba(0, 0, 0, 0.3));\n",
              "      fill: #FFFFFF;\n",
              "    }\n",
              "  </style>\n",
              "\n",
              "      <script>\n",
              "        const buttonEl =\n",
              "          document.querySelector('#df-b985bebf-4d78-4a7b-af75-c0fe775774b4 button.colab-df-convert');\n",
              "        buttonEl.style.display =\n",
              "          google.colab.kernel.accessAllowed ? 'block' : 'none';\n",
              "\n",
              "        async function convertToInteractive(key) {\n",
              "          const element = document.querySelector('#df-b985bebf-4d78-4a7b-af75-c0fe775774b4');\n",
              "          const dataTable =\n",
              "            await google.colab.kernel.invokeFunction('convertToInteractive',\n",
              "                                                     [key], {});\n",
              "          if (!dataTable) return;\n",
              "\n",
              "          const docLinkHtml = 'Like what you see? Visit the ' +\n",
              "            '<a target=\"_blank\" href=https://colab.research.google.com/notebooks/data_table.ipynb>data table notebook</a>'\n",
              "            + ' to learn more about interactive tables.';\n",
              "          element.innerHTML = '';\n",
              "          dataTable['output_type'] = 'display_data';\n",
              "          await google.colab.output.renderOutput(dataTable, element);\n",
              "          const docLink = document.createElement('div');\n",
              "          docLink.innerHTML = docLinkHtml;\n",
              "          element.appendChild(docLink);\n",
              "        }\n",
              "      </script>\n",
              "    </div>\n",
              "  </div>\n",
              "  "
            ]
          },
          "metadata": {},
          "execution_count": 10
        }
      ]
    },
    {
      "cell_type": "code",
      "source": [
        "df3"
      ],
      "metadata": {
        "colab": {
          "base_uri": "https://localhost:8080/",
          "height": 426
        },
        "id": "krpWGInocubo",
        "outputId": "d62cdbc5-bf6d-4481-cc61-1594325702d5"
      },
      "execution_count": null,
      "outputs": [
        {
          "output_type": "execute_result",
          "data": {
            "text/plain": [
              "    Unnamed: 0  CLIENTNUM     Attrition_Flag  Customer_Age Gender  \\\n",
              "0         6036  720010608  Attrited Customer            37      M   \n",
              "3         9759  709657533  Attrited Customer            44      M   \n",
              "4         4740  716625033  Attrited Customer            32      F   \n",
              "9         8350  709222008  Attrited Customer            41      M   \n",
              "10        8139  809844108  Existing Customer            48      M   \n",
              "12        8020  778163508  Existing Customer            37      F   \n",
              "13         357  711857733  Existing Customer            49      M   \n",
              "14        6562  720070383  Existing Customer            41      F   \n",
              "15        4563  809809008  Existing Customer            47      F   \n",
              "16       10084  718161708  Existing Customer            46      F   \n",
              "17        5725  771079833  Existing Customer            40      F   \n",
              "18        2587  711639708  Existing Customer            42      M   \n",
              "\n",
              "   Education_Level Marital_Status Income_Category Card_Category  Credit_Limit  \n",
              "0          Unknown         Single     $40K - $60K          Blue       10226.0  \n",
              "3      High School        Unknown         $120K +          Blue        7793.0  \n",
              "4         Graduate         Single  Less than $40K          Blue        2761.0  \n",
              "9          Unknown         Single    $80K - $120K          Blue        4742.0  \n",
              "10       Doctorate         Single     $60K - $80K          Blue        8086.0  \n",
              "12     High School        Married         Unknown          Blue        5245.0  \n",
              "13      Uneducated         Single     $60K - $80K          Blue       18584.0  \n",
              "14      Uneducated         Single         Unknown          Blue        2429.0  \n",
              "15        Graduate        Married  Less than $40K          Blue        3111.0  \n",
              "16        Graduate        Married  Less than $40K          Blue        7562.0  \n",
              "17     High School         Single  Less than $40K          Blue        1438.3  \n",
              "18        Graduate         Single     $60K - $80K          Blue        1438.3  "
            ],
            "text/html": [
              "\n",
              "  <div id=\"df-4bbb0c9a-c3fc-4099-bcc0-617395363256\">\n",
              "    <div class=\"colab-df-container\">\n",
              "      <div>\n",
              "<style scoped>\n",
              "    .dataframe tbody tr th:only-of-type {\n",
              "        vertical-align: middle;\n",
              "    }\n",
              "\n",
              "    .dataframe tbody tr th {\n",
              "        vertical-align: top;\n",
              "    }\n",
              "\n",
              "    .dataframe thead th {\n",
              "        text-align: right;\n",
              "    }\n",
              "</style>\n",
              "<table border=\"1\" class=\"dataframe\">\n",
              "  <thead>\n",
              "    <tr style=\"text-align: right;\">\n",
              "      <th></th>\n",
              "      <th>Unnamed: 0</th>\n",
              "      <th>CLIENTNUM</th>\n",
              "      <th>Attrition_Flag</th>\n",
              "      <th>Customer_Age</th>\n",
              "      <th>Gender</th>\n",
              "      <th>Education_Level</th>\n",
              "      <th>Marital_Status</th>\n",
              "      <th>Income_Category</th>\n",
              "      <th>Card_Category</th>\n",
              "      <th>Credit_Limit</th>\n",
              "    </tr>\n",
              "  </thead>\n",
              "  <tbody>\n",
              "    <tr>\n",
              "      <th>0</th>\n",
              "      <td>6036</td>\n",
              "      <td>720010608</td>\n",
              "      <td>Attrited Customer</td>\n",
              "      <td>37</td>\n",
              "      <td>M</td>\n",
              "      <td>Unknown</td>\n",
              "      <td>Single</td>\n",
              "      <td>$40K - $60K</td>\n",
              "      <td>Blue</td>\n",
              "      <td>10226.0</td>\n",
              "    </tr>\n",
              "    <tr>\n",
              "      <th>3</th>\n",
              "      <td>9759</td>\n",
              "      <td>709657533</td>\n",
              "      <td>Attrited Customer</td>\n",
              "      <td>44</td>\n",
              "      <td>M</td>\n",
              "      <td>High School</td>\n",
              "      <td>Unknown</td>\n",
              "      <td>$120K +</td>\n",
              "      <td>Blue</td>\n",
              "      <td>7793.0</td>\n",
              "    </tr>\n",
              "    <tr>\n",
              "      <th>4</th>\n",
              "      <td>4740</td>\n",
              "      <td>716625033</td>\n",
              "      <td>Attrited Customer</td>\n",
              "      <td>32</td>\n",
              "      <td>F</td>\n",
              "      <td>Graduate</td>\n",
              "      <td>Single</td>\n",
              "      <td>Less than $40K</td>\n",
              "      <td>Blue</td>\n",
              "      <td>2761.0</td>\n",
              "    </tr>\n",
              "    <tr>\n",
              "      <th>9</th>\n",
              "      <td>8350</td>\n",
              "      <td>709222008</td>\n",
              "      <td>Attrited Customer</td>\n",
              "      <td>41</td>\n",
              "      <td>M</td>\n",
              "      <td>Unknown</td>\n",
              "      <td>Single</td>\n",
              "      <td>$80K - $120K</td>\n",
              "      <td>Blue</td>\n",
              "      <td>4742.0</td>\n",
              "    </tr>\n",
              "    <tr>\n",
              "      <th>10</th>\n",
              "      <td>8139</td>\n",
              "      <td>809844108</td>\n",
              "      <td>Existing Customer</td>\n",
              "      <td>48</td>\n",
              "      <td>M</td>\n",
              "      <td>Doctorate</td>\n",
              "      <td>Single</td>\n",
              "      <td>$60K - $80K</td>\n",
              "      <td>Blue</td>\n",
              "      <td>8086.0</td>\n",
              "    </tr>\n",
              "    <tr>\n",
              "      <th>12</th>\n",
              "      <td>8020</td>\n",
              "      <td>778163508</td>\n",
              "      <td>Existing Customer</td>\n",
              "      <td>37</td>\n",
              "      <td>F</td>\n",
              "      <td>High School</td>\n",
              "      <td>Married</td>\n",
              "      <td>Unknown</td>\n",
              "      <td>Blue</td>\n",
              "      <td>5245.0</td>\n",
              "    </tr>\n",
              "    <tr>\n",
              "      <th>13</th>\n",
              "      <td>357</td>\n",
              "      <td>711857733</td>\n",
              "      <td>Existing Customer</td>\n",
              "      <td>49</td>\n",
              "      <td>M</td>\n",
              "      <td>Uneducated</td>\n",
              "      <td>Single</td>\n",
              "      <td>$60K - $80K</td>\n",
              "      <td>Blue</td>\n",
              "      <td>18584.0</td>\n",
              "    </tr>\n",
              "    <tr>\n",
              "      <th>14</th>\n",
              "      <td>6562</td>\n",
              "      <td>720070383</td>\n",
              "      <td>Existing Customer</td>\n",
              "      <td>41</td>\n",
              "      <td>F</td>\n",
              "      <td>Uneducated</td>\n",
              "      <td>Single</td>\n",
              "      <td>Unknown</td>\n",
              "      <td>Blue</td>\n",
              "      <td>2429.0</td>\n",
              "    </tr>\n",
              "    <tr>\n",
              "      <th>15</th>\n",
              "      <td>4563</td>\n",
              "      <td>809809008</td>\n",
              "      <td>Existing Customer</td>\n",
              "      <td>47</td>\n",
              "      <td>F</td>\n",
              "      <td>Graduate</td>\n",
              "      <td>Married</td>\n",
              "      <td>Less than $40K</td>\n",
              "      <td>Blue</td>\n",
              "      <td>3111.0</td>\n",
              "    </tr>\n",
              "    <tr>\n",
              "      <th>16</th>\n",
              "      <td>10084</td>\n",
              "      <td>718161708</td>\n",
              "      <td>Existing Customer</td>\n",
              "      <td>46</td>\n",
              "      <td>F</td>\n",
              "      <td>Graduate</td>\n",
              "      <td>Married</td>\n",
              "      <td>Less than $40K</td>\n",
              "      <td>Blue</td>\n",
              "      <td>7562.0</td>\n",
              "    </tr>\n",
              "    <tr>\n",
              "      <th>17</th>\n",
              "      <td>5725</td>\n",
              "      <td>771079833</td>\n",
              "      <td>Existing Customer</td>\n",
              "      <td>40</td>\n",
              "      <td>F</td>\n",
              "      <td>High School</td>\n",
              "      <td>Single</td>\n",
              "      <td>Less than $40K</td>\n",
              "      <td>Blue</td>\n",
              "      <td>1438.3</td>\n",
              "    </tr>\n",
              "    <tr>\n",
              "      <th>18</th>\n",
              "      <td>2587</td>\n",
              "      <td>711639708</td>\n",
              "      <td>Existing Customer</td>\n",
              "      <td>42</td>\n",
              "      <td>M</td>\n",
              "      <td>Graduate</td>\n",
              "      <td>Single</td>\n",
              "      <td>$60K - $80K</td>\n",
              "      <td>Blue</td>\n",
              "      <td>1438.3</td>\n",
              "    </tr>\n",
              "  </tbody>\n",
              "</table>\n",
              "</div>\n",
              "      <button class=\"colab-df-convert\" onclick=\"convertToInteractive('df-4bbb0c9a-c3fc-4099-bcc0-617395363256')\"\n",
              "              title=\"Convert this dataframe to an interactive table.\"\n",
              "              style=\"display:none;\">\n",
              "        \n",
              "  <svg xmlns=\"http://www.w3.org/2000/svg\" height=\"24px\"viewBox=\"0 0 24 24\"\n",
              "       width=\"24px\">\n",
              "    <path d=\"M0 0h24v24H0V0z\" fill=\"none\"/>\n",
              "    <path d=\"M18.56 5.44l.94 2.06.94-2.06 2.06-.94-2.06-.94-.94-2.06-.94 2.06-2.06.94zm-11 1L8.5 8.5l.94-2.06 2.06-.94-2.06-.94L8.5 2.5l-.94 2.06-2.06.94zm10 10l.94 2.06.94-2.06 2.06-.94-2.06-.94-.94-2.06-.94 2.06-2.06.94z\"/><path d=\"M17.41 7.96l-1.37-1.37c-.4-.4-.92-.59-1.43-.59-.52 0-1.04.2-1.43.59L10.3 9.45l-7.72 7.72c-.78.78-.78 2.05 0 2.83L4 21.41c.39.39.9.59 1.41.59.51 0 1.02-.2 1.41-.59l7.78-7.78 2.81-2.81c.8-.78.8-2.07 0-2.86zM5.41 20L4 18.59l7.72-7.72 1.47 1.35L5.41 20z\"/>\n",
              "  </svg>\n",
              "      </button>\n",
              "      \n",
              "  <style>\n",
              "    .colab-df-container {\n",
              "      display:flex;\n",
              "      flex-wrap:wrap;\n",
              "      gap: 12px;\n",
              "    }\n",
              "\n",
              "    .colab-df-convert {\n",
              "      background-color: #E8F0FE;\n",
              "      border: none;\n",
              "      border-radius: 50%;\n",
              "      cursor: pointer;\n",
              "      display: none;\n",
              "      fill: #1967D2;\n",
              "      height: 32px;\n",
              "      padding: 0 0 0 0;\n",
              "      width: 32px;\n",
              "    }\n",
              "\n",
              "    .colab-df-convert:hover {\n",
              "      background-color: #E2EBFA;\n",
              "      box-shadow: 0px 1px 2px rgba(60, 64, 67, 0.3), 0px 1px 3px 1px rgba(60, 64, 67, 0.15);\n",
              "      fill: #174EA6;\n",
              "    }\n",
              "\n",
              "    [theme=dark] .colab-df-convert {\n",
              "      background-color: #3B4455;\n",
              "      fill: #D2E3FC;\n",
              "    }\n",
              "\n",
              "    [theme=dark] .colab-df-convert:hover {\n",
              "      background-color: #434B5C;\n",
              "      box-shadow: 0px 1px 3px 1px rgba(0, 0, 0, 0.15);\n",
              "      filter: drop-shadow(0px 1px 2px rgba(0, 0, 0, 0.3));\n",
              "      fill: #FFFFFF;\n",
              "    }\n",
              "  </style>\n",
              "\n",
              "      <script>\n",
              "        const buttonEl =\n",
              "          document.querySelector('#df-4bbb0c9a-c3fc-4099-bcc0-617395363256 button.colab-df-convert');\n",
              "        buttonEl.style.display =\n",
              "          google.colab.kernel.accessAllowed ? 'block' : 'none';\n",
              "\n",
              "        async function convertToInteractive(key) {\n",
              "          const element = document.querySelector('#df-4bbb0c9a-c3fc-4099-bcc0-617395363256');\n",
              "          const dataTable =\n",
              "            await google.colab.kernel.invokeFunction('convertToInteractive',\n",
              "                                                     [key], {});\n",
              "          if (!dataTable) return;\n",
              "\n",
              "          const docLinkHtml = 'Like what you see? Visit the ' +\n",
              "            '<a target=\"_blank\" href=https://colab.research.google.com/notebooks/data_table.ipynb>data table notebook</a>'\n",
              "            + ' to learn more about interactive tables.';\n",
              "          element.innerHTML = '';\n",
              "          dataTable['output_type'] = 'display_data';\n",
              "          await google.colab.output.renderOutput(dataTable, element);\n",
              "          const docLink = document.createElement('div');\n",
              "          docLink.innerHTML = docLinkHtml;\n",
              "          element.appendChild(docLink);\n",
              "        }\n",
              "      </script>\n",
              "    </div>\n",
              "  </div>\n",
              "  "
            ]
          },
          "metadata": {},
          "execution_count": 11
        }
      ]
    },
    {
      "cell_type": "code",
      "source": [
        "df4"
      ],
      "metadata": {
        "colab": {
          "base_uri": "https://localhost:8080/",
          "height": 394
        },
        "id": "hF8KKBXsc0q6",
        "outputId": "cfb29396-10a4-4e25-a8ad-ffa7a644776a"
      },
      "execution_count": null,
      "outputs": [
        {
          "output_type": "execute_result",
          "data": {
            "text/plain": [
              "    Unnamed: 0  CLIENTNUM     Attrition_Flag  Customer_Age Gender  \\\n",
              "0         6036  720010608  Attrited Customer            37      M   \n",
              "2         4272  794707083  Attrited Customer            50      M   \n",
              "4         4740  716625033  Attrited Customer            32      F   \n",
              "6         5009  804829533  Attrited Customer            59      M   \n",
              "7         8200  712144158  Attrited Customer            53      F   \n",
              "9         8350  709222008  Attrited Customer            41      M   \n",
              "10        8139  809844108  Existing Customer            48      M   \n",
              "13         357  711857733  Existing Customer            49      M   \n",
              "14        6562  720070383  Existing Customer            41      F   \n",
              "17        5725  771079833  Existing Customer            40      F   \n",
              "18        2587  711639708  Existing Customer            42      M   \n",
              "\n",
              "   Education_Level Marital_Status Income_Category Card_Category  Credit_Limit  \n",
              "0          Unknown         Single     $40K - $60K          Blue       10226.0  \n",
              "2          College         Single    $80K - $120K          Blue        3495.0  \n",
              "4         Graduate         Single  Less than $40K          Blue        2761.0  \n",
              "6      High School         Single     $60K - $80K          Blue       24621.0  \n",
              "7         Graduate         Single  Less than $40K          Blue        2370.0  \n",
              "9          Unknown         Single    $80K - $120K          Blue        4742.0  \n",
              "10       Doctorate         Single     $60K - $80K          Blue        8086.0  \n",
              "13      Uneducated         Single     $60K - $80K          Blue       18584.0  \n",
              "14      Uneducated         Single         Unknown          Blue        2429.0  \n",
              "17     High School         Single  Less than $40K          Blue        1438.3  \n",
              "18        Graduate         Single     $60K - $80K          Blue        1438.3  "
            ],
            "text/html": [
              "\n",
              "  <div id=\"df-94be988f-72bb-4654-987d-f7bb9d12ebad\">\n",
              "    <div class=\"colab-df-container\">\n",
              "      <div>\n",
              "<style scoped>\n",
              "    .dataframe tbody tr th:only-of-type {\n",
              "        vertical-align: middle;\n",
              "    }\n",
              "\n",
              "    .dataframe tbody tr th {\n",
              "        vertical-align: top;\n",
              "    }\n",
              "\n",
              "    .dataframe thead th {\n",
              "        text-align: right;\n",
              "    }\n",
              "</style>\n",
              "<table border=\"1\" class=\"dataframe\">\n",
              "  <thead>\n",
              "    <tr style=\"text-align: right;\">\n",
              "      <th></th>\n",
              "      <th>Unnamed: 0</th>\n",
              "      <th>CLIENTNUM</th>\n",
              "      <th>Attrition_Flag</th>\n",
              "      <th>Customer_Age</th>\n",
              "      <th>Gender</th>\n",
              "      <th>Education_Level</th>\n",
              "      <th>Marital_Status</th>\n",
              "      <th>Income_Category</th>\n",
              "      <th>Card_Category</th>\n",
              "      <th>Credit_Limit</th>\n",
              "    </tr>\n",
              "  </thead>\n",
              "  <tbody>\n",
              "    <tr>\n",
              "      <th>0</th>\n",
              "      <td>6036</td>\n",
              "      <td>720010608</td>\n",
              "      <td>Attrited Customer</td>\n",
              "      <td>37</td>\n",
              "      <td>M</td>\n",
              "      <td>Unknown</td>\n",
              "      <td>Single</td>\n",
              "      <td>$40K - $60K</td>\n",
              "      <td>Blue</td>\n",
              "      <td>10226.0</td>\n",
              "    </tr>\n",
              "    <tr>\n",
              "      <th>2</th>\n",
              "      <td>4272</td>\n",
              "      <td>794707083</td>\n",
              "      <td>Attrited Customer</td>\n",
              "      <td>50</td>\n",
              "      <td>M</td>\n",
              "      <td>College</td>\n",
              "      <td>Single</td>\n",
              "      <td>$80K - $120K</td>\n",
              "      <td>Blue</td>\n",
              "      <td>3495.0</td>\n",
              "    </tr>\n",
              "    <tr>\n",
              "      <th>4</th>\n",
              "      <td>4740</td>\n",
              "      <td>716625033</td>\n",
              "      <td>Attrited Customer</td>\n",
              "      <td>32</td>\n",
              "      <td>F</td>\n",
              "      <td>Graduate</td>\n",
              "      <td>Single</td>\n",
              "      <td>Less than $40K</td>\n",
              "      <td>Blue</td>\n",
              "      <td>2761.0</td>\n",
              "    </tr>\n",
              "    <tr>\n",
              "      <th>6</th>\n",
              "      <td>5009</td>\n",
              "      <td>804829533</td>\n",
              "      <td>Attrited Customer</td>\n",
              "      <td>59</td>\n",
              "      <td>M</td>\n",
              "      <td>High School</td>\n",
              "      <td>Single</td>\n",
              "      <td>$60K - $80K</td>\n",
              "      <td>Blue</td>\n",
              "      <td>24621.0</td>\n",
              "    </tr>\n",
              "    <tr>\n",
              "      <th>7</th>\n",
              "      <td>8200</td>\n",
              "      <td>712144158</td>\n",
              "      <td>Attrited Customer</td>\n",
              "      <td>53</td>\n",
              "      <td>F</td>\n",
              "      <td>Graduate</td>\n",
              "      <td>Single</td>\n",
              "      <td>Less than $40K</td>\n",
              "      <td>Blue</td>\n",
              "      <td>2370.0</td>\n",
              "    </tr>\n",
              "    <tr>\n",
              "      <th>9</th>\n",
              "      <td>8350</td>\n",
              "      <td>709222008</td>\n",
              "      <td>Attrited Customer</td>\n",
              "      <td>41</td>\n",
              "      <td>M</td>\n",
              "      <td>Unknown</td>\n",
              "      <td>Single</td>\n",
              "      <td>$80K - $120K</td>\n",
              "      <td>Blue</td>\n",
              "      <td>4742.0</td>\n",
              "    </tr>\n",
              "    <tr>\n",
              "      <th>10</th>\n",
              "      <td>8139</td>\n",
              "      <td>809844108</td>\n",
              "      <td>Existing Customer</td>\n",
              "      <td>48</td>\n",
              "      <td>M</td>\n",
              "      <td>Doctorate</td>\n",
              "      <td>Single</td>\n",
              "      <td>$60K - $80K</td>\n",
              "      <td>Blue</td>\n",
              "      <td>8086.0</td>\n",
              "    </tr>\n",
              "    <tr>\n",
              "      <th>13</th>\n",
              "      <td>357</td>\n",
              "      <td>711857733</td>\n",
              "      <td>Existing Customer</td>\n",
              "      <td>49</td>\n",
              "      <td>M</td>\n",
              "      <td>Uneducated</td>\n",
              "      <td>Single</td>\n",
              "      <td>$60K - $80K</td>\n",
              "      <td>Blue</td>\n",
              "      <td>18584.0</td>\n",
              "    </tr>\n",
              "    <tr>\n",
              "      <th>14</th>\n",
              "      <td>6562</td>\n",
              "      <td>720070383</td>\n",
              "      <td>Existing Customer</td>\n",
              "      <td>41</td>\n",
              "      <td>F</td>\n",
              "      <td>Uneducated</td>\n",
              "      <td>Single</td>\n",
              "      <td>Unknown</td>\n",
              "      <td>Blue</td>\n",
              "      <td>2429.0</td>\n",
              "    </tr>\n",
              "    <tr>\n",
              "      <th>17</th>\n",
              "      <td>5725</td>\n",
              "      <td>771079833</td>\n",
              "      <td>Existing Customer</td>\n",
              "      <td>40</td>\n",
              "      <td>F</td>\n",
              "      <td>High School</td>\n",
              "      <td>Single</td>\n",
              "      <td>Less than $40K</td>\n",
              "      <td>Blue</td>\n",
              "      <td>1438.3</td>\n",
              "    </tr>\n",
              "    <tr>\n",
              "      <th>18</th>\n",
              "      <td>2587</td>\n",
              "      <td>711639708</td>\n",
              "      <td>Existing Customer</td>\n",
              "      <td>42</td>\n",
              "      <td>M</td>\n",
              "      <td>Graduate</td>\n",
              "      <td>Single</td>\n",
              "      <td>$60K - $80K</td>\n",
              "      <td>Blue</td>\n",
              "      <td>1438.3</td>\n",
              "    </tr>\n",
              "  </tbody>\n",
              "</table>\n",
              "</div>\n",
              "      <button class=\"colab-df-convert\" onclick=\"convertToInteractive('df-94be988f-72bb-4654-987d-f7bb9d12ebad')\"\n",
              "              title=\"Convert this dataframe to an interactive table.\"\n",
              "              style=\"display:none;\">\n",
              "        \n",
              "  <svg xmlns=\"http://www.w3.org/2000/svg\" height=\"24px\"viewBox=\"0 0 24 24\"\n",
              "       width=\"24px\">\n",
              "    <path d=\"M0 0h24v24H0V0z\" fill=\"none\"/>\n",
              "    <path d=\"M18.56 5.44l.94 2.06.94-2.06 2.06-.94-2.06-.94-.94-2.06-.94 2.06-2.06.94zm-11 1L8.5 8.5l.94-2.06 2.06-.94-2.06-.94L8.5 2.5l-.94 2.06-2.06.94zm10 10l.94 2.06.94-2.06 2.06-.94-2.06-.94-.94-2.06-.94 2.06-2.06.94z\"/><path d=\"M17.41 7.96l-1.37-1.37c-.4-.4-.92-.59-1.43-.59-.52 0-1.04.2-1.43.59L10.3 9.45l-7.72 7.72c-.78.78-.78 2.05 0 2.83L4 21.41c.39.39.9.59 1.41.59.51 0 1.02-.2 1.41-.59l7.78-7.78 2.81-2.81c.8-.78.8-2.07 0-2.86zM5.41 20L4 18.59l7.72-7.72 1.47 1.35L5.41 20z\"/>\n",
              "  </svg>\n",
              "      </button>\n",
              "      \n",
              "  <style>\n",
              "    .colab-df-container {\n",
              "      display:flex;\n",
              "      flex-wrap:wrap;\n",
              "      gap: 12px;\n",
              "    }\n",
              "\n",
              "    .colab-df-convert {\n",
              "      background-color: #E8F0FE;\n",
              "      border: none;\n",
              "      border-radius: 50%;\n",
              "      cursor: pointer;\n",
              "      display: none;\n",
              "      fill: #1967D2;\n",
              "      height: 32px;\n",
              "      padding: 0 0 0 0;\n",
              "      width: 32px;\n",
              "    }\n",
              "\n",
              "    .colab-df-convert:hover {\n",
              "      background-color: #E2EBFA;\n",
              "      box-shadow: 0px 1px 2px rgba(60, 64, 67, 0.3), 0px 1px 3px 1px rgba(60, 64, 67, 0.15);\n",
              "      fill: #174EA6;\n",
              "    }\n",
              "\n",
              "    [theme=dark] .colab-df-convert {\n",
              "      background-color: #3B4455;\n",
              "      fill: #D2E3FC;\n",
              "    }\n",
              "\n",
              "    [theme=dark] .colab-df-convert:hover {\n",
              "      background-color: #434B5C;\n",
              "      box-shadow: 0px 1px 3px 1px rgba(0, 0, 0, 0.15);\n",
              "      filter: drop-shadow(0px 1px 2px rgba(0, 0, 0, 0.3));\n",
              "      fill: #FFFFFF;\n",
              "    }\n",
              "  </style>\n",
              "\n",
              "      <script>\n",
              "        const buttonEl =\n",
              "          document.querySelector('#df-94be988f-72bb-4654-987d-f7bb9d12ebad button.colab-df-convert');\n",
              "        buttonEl.style.display =\n",
              "          google.colab.kernel.accessAllowed ? 'block' : 'none';\n",
              "\n",
              "        async function convertToInteractive(key) {\n",
              "          const element = document.querySelector('#df-94be988f-72bb-4654-987d-f7bb9d12ebad');\n",
              "          const dataTable =\n",
              "            await google.colab.kernel.invokeFunction('convertToInteractive',\n",
              "                                                     [key], {});\n",
              "          if (!dataTable) return;\n",
              "\n",
              "          const docLinkHtml = 'Like what you see? Visit the ' +\n",
              "            '<a target=\"_blank\" href=https://colab.research.google.com/notebooks/data_table.ipynb>data table notebook</a>'\n",
              "            + ' to learn more about interactive tables.';\n",
              "          element.innerHTML = '';\n",
              "          dataTable['output_type'] = 'display_data';\n",
              "          await google.colab.output.renderOutput(dataTable, element);\n",
              "          const docLink = document.createElement('div');\n",
              "          docLink.innerHTML = docLinkHtml;\n",
              "          element.appendChild(docLink);\n",
              "        }\n",
              "      </script>\n",
              "    </div>\n",
              "  </div>\n",
              "  "
            ]
          },
          "metadata": {},
          "execution_count": 12
        }
      ]
    },
    {
      "cell_type": "code",
      "source": [
        "# Tampilkan info dataset (df.info()) dan berikan penjelasannya dalam bentuk teks atau comment\n",
        "\n",
        "df.info()"
      ],
      "metadata": {
        "id": "vm89zlTTOl4D",
        "colab": {
          "base_uri": "https://localhost:8080/"
        },
        "outputId": "6fa6babc-6477-4438-d16b-13b6eaacd388"
      },
      "execution_count": 41,
      "outputs": [
        {
          "output_type": "stream",
          "name": "stdout",
          "text": [
            "<class 'pandas.core.frame.DataFrame'>\n",
            "RangeIndex: 20 entries, 0 to 19\n",
            "Data columns (total 10 columns):\n",
            " #   Column           Non-Null Count  Dtype  \n",
            "---  ------           --------------  -----  \n",
            " 0   Unnamed: 0       20 non-null     int64  \n",
            " 1   CLIENTNUM        20 non-null     int64  \n",
            " 2   Attrition_Flag   20 non-null     object \n",
            " 3   Customer_Age     20 non-null     int64  \n",
            " 4   Gender           20 non-null     object \n",
            " 5   Education_Level  20 non-null     object \n",
            " 6   Marital_Status   20 non-null     object \n",
            " 7   Income_Category  20 non-null     object \n",
            " 8   Card_Category    20 non-null     object \n",
            " 9   Credit_Limit     20 non-null     float64\n",
            "dtypes: float64(1), int64(3), object(6)\n",
            "memory usage: 1.7+ KB\n"
          ]
        }
      ]
    },
    {
      "cell_type": "markdown",
      "source": [
        "Pada output diatas, terdapat 10 kolom data yang masing-masing memiliki type datanya masing-masing.\n",
        "\n",
        "1. Unnamed type data int (bilangan bulat)\n",
        "2. CLIENTNUM type data int (bilangan bulat)\n",
        "3. Attrition_Flag type data object\n",
        "4. Customer_Age type data int (bilangan bulat)\n",
        "5. Gender type data object\n",
        "6. Education_Level type data object\n",
        "7. Marital_Status type data object\n",
        "8. Income_Category type data object\n",
        "9. Card_Category type data object\n",
        "10. Credit_limit type data float (bilangan yang mempunyai koma)"
      ],
      "metadata": {
        "id": "tB1siVxotIPC"
      }
    },
    {
      "cell_type": "code",
      "source": [
        "#@title Opsional (nilai plus)\n",
        "\n",
        "# Tampilkan nilai rata-rata, min,max, dan standar deviasi  untuk setiap kolom bertipe angka\n",
        "\n",
        "dfops = df[['Unnamed: 0','CLIENTNUM','Customer_Age','Credit_Limit']].describe()\n",
        "dfops"
      ],
      "metadata": {
        "id": "Gk-aiwdCO3Tw",
        "colab": {
          "base_uri": "https://localhost:8080/",
          "height": 300
        },
        "outputId": "45d34581-b571-4e48-d542-5da7e0319a4a"
      },
      "execution_count": 49,
      "outputs": [
        {
          "output_type": "execute_result",
          "data": {
            "text/plain": [
              "         Unnamed: 0     CLIENTNUM  Customer_Age  Credit_Limit\n",
              "count     20.000000  2.000000e+01     20.000000     20.000000\n",
              "mean    6105.100000  7.424893e+08     47.250000   8114.580000\n",
              "std     2850.304026  4.045524e+07      7.859791   8331.036819\n",
              "min      176.000000  7.092220e+08     32.000000   1438.300000\n",
              "25%     4695.750000  7.120726e+08     41.000000   2502.500000\n",
              "50%     6299.000000  7.173934e+08     47.500000   4118.500000\n",
              "75%     8206.500000  7.822994e+08     53.500000   8621.000000\n",
              "max    10084.000000  8.098441e+08     59.000000  26792.000000"
            ],
            "text/html": [
              "\n",
              "  <div id=\"df-47666e3c-09f9-41d6-a508-20ef7ebcfecd\">\n",
              "    <div class=\"colab-df-container\">\n",
              "      <div>\n",
              "<style scoped>\n",
              "    .dataframe tbody tr th:only-of-type {\n",
              "        vertical-align: middle;\n",
              "    }\n",
              "\n",
              "    .dataframe tbody tr th {\n",
              "        vertical-align: top;\n",
              "    }\n",
              "\n",
              "    .dataframe thead th {\n",
              "        text-align: right;\n",
              "    }\n",
              "</style>\n",
              "<table border=\"1\" class=\"dataframe\">\n",
              "  <thead>\n",
              "    <tr style=\"text-align: right;\">\n",
              "      <th></th>\n",
              "      <th>Unnamed: 0</th>\n",
              "      <th>CLIENTNUM</th>\n",
              "      <th>Customer_Age</th>\n",
              "      <th>Credit_Limit</th>\n",
              "    </tr>\n",
              "  </thead>\n",
              "  <tbody>\n",
              "    <tr>\n",
              "      <th>count</th>\n",
              "      <td>20.000000</td>\n",
              "      <td>2.000000e+01</td>\n",
              "      <td>20.000000</td>\n",
              "      <td>20.000000</td>\n",
              "    </tr>\n",
              "    <tr>\n",
              "      <th>mean</th>\n",
              "      <td>6105.100000</td>\n",
              "      <td>7.424893e+08</td>\n",
              "      <td>47.250000</td>\n",
              "      <td>8114.580000</td>\n",
              "    </tr>\n",
              "    <tr>\n",
              "      <th>std</th>\n",
              "      <td>2850.304026</td>\n",
              "      <td>4.045524e+07</td>\n",
              "      <td>7.859791</td>\n",
              "      <td>8331.036819</td>\n",
              "    </tr>\n",
              "    <tr>\n",
              "      <th>min</th>\n",
              "      <td>176.000000</td>\n",
              "      <td>7.092220e+08</td>\n",
              "      <td>32.000000</td>\n",
              "      <td>1438.300000</td>\n",
              "    </tr>\n",
              "    <tr>\n",
              "      <th>25%</th>\n",
              "      <td>4695.750000</td>\n",
              "      <td>7.120726e+08</td>\n",
              "      <td>41.000000</td>\n",
              "      <td>2502.500000</td>\n",
              "    </tr>\n",
              "    <tr>\n",
              "      <th>50%</th>\n",
              "      <td>6299.000000</td>\n",
              "      <td>7.173934e+08</td>\n",
              "      <td>47.500000</td>\n",
              "      <td>4118.500000</td>\n",
              "    </tr>\n",
              "    <tr>\n",
              "      <th>75%</th>\n",
              "      <td>8206.500000</td>\n",
              "      <td>7.822994e+08</td>\n",
              "      <td>53.500000</td>\n",
              "      <td>8621.000000</td>\n",
              "    </tr>\n",
              "    <tr>\n",
              "      <th>max</th>\n",
              "      <td>10084.000000</td>\n",
              "      <td>8.098441e+08</td>\n",
              "      <td>59.000000</td>\n",
              "      <td>26792.000000</td>\n",
              "    </tr>\n",
              "  </tbody>\n",
              "</table>\n",
              "</div>\n",
              "      <button class=\"colab-df-convert\" onclick=\"convertToInteractive('df-47666e3c-09f9-41d6-a508-20ef7ebcfecd')\"\n",
              "              title=\"Convert this dataframe to an interactive table.\"\n",
              "              style=\"display:none;\">\n",
              "        \n",
              "  <svg xmlns=\"http://www.w3.org/2000/svg\" height=\"24px\"viewBox=\"0 0 24 24\"\n",
              "       width=\"24px\">\n",
              "    <path d=\"M0 0h24v24H0V0z\" fill=\"none\"/>\n",
              "    <path d=\"M18.56 5.44l.94 2.06.94-2.06 2.06-.94-2.06-.94-.94-2.06-.94 2.06-2.06.94zm-11 1L8.5 8.5l.94-2.06 2.06-.94-2.06-.94L8.5 2.5l-.94 2.06-2.06.94zm10 10l.94 2.06.94-2.06 2.06-.94-2.06-.94-.94-2.06-.94 2.06-2.06.94z\"/><path d=\"M17.41 7.96l-1.37-1.37c-.4-.4-.92-.59-1.43-.59-.52 0-1.04.2-1.43.59L10.3 9.45l-7.72 7.72c-.78.78-.78 2.05 0 2.83L4 21.41c.39.39.9.59 1.41.59.51 0 1.02-.2 1.41-.59l7.78-7.78 2.81-2.81c.8-.78.8-2.07 0-2.86zM5.41 20L4 18.59l7.72-7.72 1.47 1.35L5.41 20z\"/>\n",
              "  </svg>\n",
              "      </button>\n",
              "      \n",
              "  <style>\n",
              "    .colab-df-container {\n",
              "      display:flex;\n",
              "      flex-wrap:wrap;\n",
              "      gap: 12px;\n",
              "    }\n",
              "\n",
              "    .colab-df-convert {\n",
              "      background-color: #E8F0FE;\n",
              "      border: none;\n",
              "      border-radius: 50%;\n",
              "      cursor: pointer;\n",
              "      display: none;\n",
              "      fill: #1967D2;\n",
              "      height: 32px;\n",
              "      padding: 0 0 0 0;\n",
              "      width: 32px;\n",
              "    }\n",
              "\n",
              "    .colab-df-convert:hover {\n",
              "      background-color: #E2EBFA;\n",
              "      box-shadow: 0px 1px 2px rgba(60, 64, 67, 0.3), 0px 1px 3px 1px rgba(60, 64, 67, 0.15);\n",
              "      fill: #174EA6;\n",
              "    }\n",
              "\n",
              "    [theme=dark] .colab-df-convert {\n",
              "      background-color: #3B4455;\n",
              "      fill: #D2E3FC;\n",
              "    }\n",
              "\n",
              "    [theme=dark] .colab-df-convert:hover {\n",
              "      background-color: #434B5C;\n",
              "      box-shadow: 0px 1px 3px 1px rgba(0, 0, 0, 0.15);\n",
              "      filter: drop-shadow(0px 1px 2px rgba(0, 0, 0, 0.3));\n",
              "      fill: #FFFFFF;\n",
              "    }\n",
              "  </style>\n",
              "\n",
              "      <script>\n",
              "        const buttonEl =\n",
              "          document.querySelector('#df-47666e3c-09f9-41d6-a508-20ef7ebcfecd button.colab-df-convert');\n",
              "        buttonEl.style.display =\n",
              "          google.colab.kernel.accessAllowed ? 'block' : 'none';\n",
              "\n",
              "        async function convertToInteractive(key) {\n",
              "          const element = document.querySelector('#df-47666e3c-09f9-41d6-a508-20ef7ebcfecd');\n",
              "          const dataTable =\n",
              "            await google.colab.kernel.invokeFunction('convertToInteractive',\n",
              "                                                     [key], {});\n",
              "          if (!dataTable) return;\n",
              "\n",
              "          const docLinkHtml = 'Like what you see? Visit the ' +\n",
              "            '<a target=\"_blank\" href=https://colab.research.google.com/notebooks/data_table.ipynb>data table notebook</a>'\n",
              "            + ' to learn more about interactive tables.';\n",
              "          element.innerHTML = '';\n",
              "          dataTable['output_type'] = 'display_data';\n",
              "          await google.colab.output.renderOutput(dataTable, element);\n",
              "          const docLink = document.createElement('div');\n",
              "          docLink.innerHTML = docLinkHtml;\n",
              "          element.appendChild(docLink);\n",
              "        }\n",
              "      </script>\n",
              "    </div>\n",
              "  </div>\n",
              "  "
            ]
          },
          "metadata": {},
          "execution_count": 49
        }
      ]
    },
    {
      "cell_type": "markdown",
      "source": [
        "#### Explore Data"
      ],
      "metadata": {
        "id": "PmPSc7uV_XjV"
      }
    },
    {
      "cell_type": "markdown",
      "source": [
        "##### Visualisasi Comparison"
      ],
      "metadata": {
        "id": "OXfexpup_a6l"
      }
    },
    {
      "cell_type": "code",
      "source": [
        "# Buatlah visualisasi yang menampilkan berapa banyak yang attired customer dan tidak\n",
        "\n",
        "vs1 = sns.countplot(x='Attrition_Flag', data=df)\n",
        "vs1 = plt.title('Jumlah Pelanggan Attired dan Tidak Attired')\n",
        "vs1 = plt.xlabel('Attired')\n",
        "vs1 = plt.ylabel('Jumlah Pelanggan')\n",
        "vs1"
      ],
      "metadata": {
        "id": "EIVBtry9_W5m",
        "colab": {
          "base_uri": "https://localhost:8080/",
          "height": 312
        },
        "outputId": "a4dfbac9-b809-4f4c-95ee-5f6cf8ee0454"
      },
      "execution_count": null,
      "outputs": [
        {
          "output_type": "execute_result",
          "data": {
            "text/plain": [
              "Text(0, 0.5, 'Jumlah Pelanggan')"
            ]
          },
          "metadata": {},
          "execution_count": 65
        },
        {
          "output_type": "display_data",
          "data": {
            "text/plain": [
              "<Figure size 432x288 with 1 Axes>"
            ],
            "image/png": "[encoded data removed]"
          },
          "metadata": {
            "needs_background": "light"
          }
        }
      ]
    },
    {
      "cell_type": "markdown",
      "source": [
        "Pada gambar diatas, menampilkan visualisasi comparison pada bagian attrition_flag dan menemukan hasil jumlah masing-masing dari attrited customer dan existing customer yaitu\n",
        "\n",
        "Attrited customer = 10 data\n",
        "\n",
        "Existing customer = 10 data"
      ],
      "metadata": {
        "id": "3fo4zEQ-6Dwo"
      }
    },
    {
      "cell_type": "code",
      "source": [
        "# Buatlah visualisasi yang menampilkan berapa banyak Education level berdasarkan kategori-kategorinya \n",
        "# contoh Unknown berapa dsb\n",
        "\n",
        "vs2 = sns.countplot(x='Education_Level', data=df)\n",
        "vs2 = plt.title('Jumlah Pelanggan Berdasarkan Education_Level')\n",
        "vs2 = plt.xlabel('Education_Level')\n",
        "vs2 = plt.ylabel('Jumlah Pelanggan')\n",
        "vs2"
      ],
      "metadata": {
        "id": "UgQPmLrH_lbd",
        "colab": {
          "base_uri": "https://localhost:8080/",
          "height": 313
        },
        "outputId": "f7827d8f-a9cc-4b93-dde9-0b907a063129"
      },
      "execution_count": null,
      "outputs": [
        {
          "output_type": "execute_result",
          "data": {
            "text/plain": [
              "Text(0, 0.5, 'Jumlah Pelanggan')"
            ]
          },
          "metadata": {},
          "execution_count": 66
        },
        {
          "output_type": "display_data",
          "data": {
            "text/plain": [
              "<Figure size 432x288 with 1 Axes>"
            ],
            "image/png": "[encoded data removed]"
          },
          "metadata": {
            "needs_background": "light"
          }
        }
      ]
    },
    {
      "cell_type": "markdown",
      "source": [
        "Pada gambar diatas, menampilkan visualisasi comparison pada bagian education_level dan mempunyai kategori:\n",
        "\n",
        "1. Unknown = 2 data\n",
        "2. Uneducated = 5 data\n",
        "3. College = 1 data\n",
        "4. High School = 4 data\n",
        "5. Graduate = 5 data\n",
        "6. Post-Graduate = 2 data\n",
        "7. Doctorate = 1 data"
      ],
      "metadata": {
        "id": "bPARRv1Z6JuZ"
      }
    },
    {
      "cell_type": "code",
      "source": [
        "# Buatlah visualisasi yang menampilkan berapa banyak Education level berdasarkan gendernya\n",
        "# contoh M berapa F berapa\n",
        "\n",
        "vs3 = sns.countplot(x='Gender', hue='Education_Level', data=df)\n",
        "vs3 = plt.title('Jumlah Pelanggan Berdasarkan Education_Level dan Gender')\n",
        "vs3 = plt.xlabel('Gender')\n",
        "vs3 = plt.ylabel('Jumlah Pelanggan')\n",
        "vs3"
      ],
      "metadata": {
        "id": "8Ahhq1TG__7k",
        "colab": {
          "base_uri": "https://localhost:8080/",
          "height": 312
        },
        "outputId": "fe6e2a47-b336-4a51-a5e5-6aee3b28cb58"
      },
      "execution_count": 32,
      "outputs": [
        {
          "output_type": "execute_result",
          "data": {
            "text/plain": [
              "Text(0, 0.5, 'Jumlah Pelanggan')"
            ]
          },
          "metadata": {},
          "execution_count": 32
        },
        {
          "output_type": "display_data",
          "data": {
            "text/plain": [
              "<Figure size 432x288 with 1 Axes>"
            ],
            "image/png": "[encoded data removed]"
          },
          "metadata": {
            "needs_background": "light"
          }
        }
      ]
    },
    {
      "cell_type": "markdown",
      "source": [
        "Pada gambar diatas, menampilkan visualisasi comparison pada bagian education_level berdasarkan gendernya:\n",
        "\n",
        "M : 11 data\n",
        "1. Unknown       = 2 data\n",
        "2. Uneducated    = 3 data\n",
        "3. College       = 1 data\n",
        "4. High School   = 2 data\n",
        "5. Graduate      = 1 data\n",
        "6. Post_Graduate = 1 data\n",
        "7. Doctorate     = 1 data\n",
        "\n",
        "F = 9 data\n",
        "1. Uneducated    = 2 data\n",
        "2. High School   = 2 data\n",
        "3. Graduate      = 4 data\n",
        "4. Post_Graduate = 1 data\n"
      ],
      "metadata": {
        "id": "l0RDSKIjPMae"
      }
    },
    {
      "cell_type": "markdown",
      "source": [
        "##### Visualisasi Distribution\n"
      ],
      "metadata": {
        "id": "CAFZk0hOAEUT"
      }
    },
    {
      "cell_type": "code",
      "source": [
        "# Buatlah historgram untuk umur customer dan credit card limit\n",
        "\n",
        "dhs1 = plt.hist(df['Customer_Age'], bins=20)\n",
        "dhs1 = plt.title('Histogram Customer_Age')\n",
        "dhs1 = plt.xlabel('Age')\n",
        "dhs1 = plt.ylabel('Count')\n",
        "dhs1"
      ],
      "metadata": {
        "id": "RX_wqpm7PPne",
        "colab": {
          "base_uri": "https://localhost:8080/",
          "height": 312
        },
        "outputId": "46193be5-c9a9-4433-c01a-7c6e5ab54a7c"
      },
      "execution_count": 38,
      "outputs": [
        {
          "output_type": "execute_result",
          "data": {
            "text/plain": [
              "Text(0, 0.5, 'Count')"
            ]
          },
          "metadata": {},
          "execution_count": 38
        },
        {
          "output_type": "display_data",
          "data": {
            "text/plain": [
              "<Figure size 432x288 with 1 Axes>"
            ],
            "image/png": "[encoded data removed]"
          },
          "metadata": {
            "needs_background": "light"
          }
        }
      ]
    },
    {
      "cell_type": "code",
      "source": [
        "dhs2 = plt.hist(df['Credit_Limit'], bins=20)\n",
        "dhs2 = plt.title('Histogram Credit_Limit')\n",
        "dhs2 = plt.xlabel('Credit_Limit')\n",
        "dhs2 = plt.ylabel('Count')\n",
        "dhs2"
      ],
      "metadata": {
        "colab": {
          "base_uri": "https://localhost:8080/",
          "height": 313
        },
        "id": "pD1QneYP4ZGo",
        "outputId": "ac8b5eb5-3601-4bc9-ebfb-525301cca131"
      },
      "execution_count": 36,
      "outputs": [
        {
          "output_type": "execute_result",
          "data": {
            "text/plain": [
              "Text(0, 0.5, 'Count')"
            ]
          },
          "metadata": {},
          "execution_count": 36
        },
        {
          "output_type": "display_data",
          "data": {
            "text/plain": [
              "<Figure size 432x288 with 1 Axes>"
            ],
            "image/png": "[encoded data removed]"
          },
          "metadata": {
            "needs_background": "light"
          }
        }
      ]
    },
    {
      "cell_type": "code",
      "source": [
        "# Buatlah boxplot untuk umur customer dan credit card limit\n",
        "\n",
        "dhs4 = plt.boxplot(df['Customer_Age'])\n",
        "dhs4 = plt.title('Boxplot Customer_Age')\n",
        "dhs4 = plt.ylabel('Age')\n",
        "dhs4"
      ],
      "metadata": {
        "id": "IcF_B1HmP7mO",
        "colab": {
          "base_uri": "https://localhost:8080/",
          "height": 298
        },
        "outputId": "490910e1-331d-4978-85cf-5fb0dfd76ee8"
      },
      "execution_count": null,
      "outputs": [
        {
          "output_type": "execute_result",
          "data": {
            "text/plain": [
              "Text(0, 0.5, 'Age')"
            ]
          },
          "metadata": {},
          "execution_count": 58
        },
        {
          "output_type": "display_data",
          "data": {
            "text/plain": [
              "<Figure size 432x288 with 1 Axes>"
            ],
            "image/png": "[encoded data removed]"
          },
          "metadata": {
            "needs_background": "light"
          }
        }
      ]
    },
    {
      "cell_type": "markdown",
      "source": [
        "Pada gambar diatas, umur customer memiliki maksimal 59 tahun, minimal 32 tahun dan memiliki rata-rata nilai tengah 45-50 tahun"
      ],
      "metadata": {
        "id": "Y3GZO9yhzkkY"
      }
    },
    {
      "cell_type": "code",
      "source": [
        "dhs5 = plt.boxplot(df['Credit_Limit'])\n",
        "dhs5 = plt.title('Boxplot Credit_Limit')\n",
        "dhs5 = plt.ylabel('Credit_Limit')\n",
        "dhs5"
      ],
      "metadata": {
        "colab": {
          "base_uri": "https://localhost:8080/",
          "height": 298
        },
        "id": "ZIThzBjv6IQy",
        "outputId": "697a95b5-08be-42c4-dcaa-979e02b2d0ee"
      },
      "execution_count": null,
      "outputs": [
        {
          "output_type": "execute_result",
          "data": {
            "text/plain": [
              "Text(0, 0.5, 'Credit_Limit')"
            ]
          },
          "metadata": {},
          "execution_count": 59
        },
        {
          "output_type": "display_data",
          "data": {
            "text/plain": [
              "<Figure size 432x288 with 1 Axes>"
            ],
            "image/png": "[encoded data removed]"
          },
          "metadata": {
            "needs_background": "light"
          }
        }
      ]
    },
    {
      "cell_type": "markdown",
      "source": [
        "Pada gambar diatas, credit_limit ini mempunyai maksimal > 10000, minimal < 5000, dan mempunyai rata-rata sekitar 4000an."
      ],
      "metadata": {
        "id": "v_TwvSa9P94E"
      }
    },
    {
      "cell_type": "markdown",
      "source": [
        "##### Visualisasi Relationship\n",
        "\n",
        "\n"
      ],
      "metadata": {
        "id": "ezkaX5QbPfNG"
      }
    },
    {
      "cell_type": "code",
      "source": [
        "# Buatlah scatterplot untuk umur dan credit card limit\n",
        "\n",
        "sp = plt.scatter(df['Customer_Age'], df['Credit_Limit'])\n",
        "sp = plt.title('Scatter Plot Customer_Age dan Credit_Limit')\n",
        "sp = plt.xlabel('Customer_Age')\n",
        "sp = plt.ylabel('Credit_Limit')\n",
        "sp"
      ],
      "metadata": {
        "id": "y-lzGBWSP3b8",
        "colab": {
          "base_uri": "https://localhost:8080/",
          "height": 313
        },
        "outputId": "7c05d13f-fa5e-4227-9f37-95b74018ecee"
      },
      "execution_count": null,
      "outputs": [
        {
          "output_type": "execute_result",
          "data": {
            "text/plain": [
              "Text(0, 0.5, 'Credit_Limit')"
            ]
          },
          "metadata": {},
          "execution_count": 64
        },
        {
          "output_type": "display_data",
          "data": {
            "text/plain": [
              "<Figure size 432x288 with 1 Axes>"
            ],
            "image/png": "[encoded data removed]"
          },
          "metadata": {
            "needs_background": "light"
          }
        }
      ]
    },
    {
      "cell_type": "markdown",
      "source": [
        "##### Visualisasi Composition\n",
        "\n",
        "\n"
      ],
      "metadata": {
        "id": "5jEZ8lWTQWwG"
      }
    },
    {
      "cell_type": "code",
      "source": [
        "# Buatlah pieplot untuk Income Category & Education Level\n",
        "\n",
        "# Pie plot untuk Income Category\n",
        "pp1 = labels = df['Income_Category'].value_counts().index\n",
        "pp1 = sizes = df['Income_Category'].value_counts().values\n",
        "pp1 = plt.pie(sizes, labels=labels, autopct='%1.1f%%')\n",
        "pp1 = plt.title('Proporsi Jumlah Pelanggan Berdasarkan Kategori Income')\n",
        "pp1 = plt.axis('equal')\n",
        "pp1"
      ],
      "metadata": {
        "id": "hjPoni4qQWwH",
        "colab": {
          "base_uri": "https://localhost:8080/",
          "height": 281
        },
        "outputId": "9d7187ab-1bd4-4d30-af0c-53fc7227184d"
      },
      "execution_count": null,
      "outputs": [
        {
          "output_type": "execute_result",
          "data": {
            "text/plain": [
              "(-1.10000000012262, 1.100000002575021, -1.1171195790182318, 1.1008152180484871)"
            ]
          },
          "metadata": {},
          "execution_count": 70
        },
        {
          "output_type": "display_data",
          "data": {
            "text/plain": [
              "<Figure size 432x288 with 1 Axes>"
            ],
            "image/png": "[encoded data removed]"
          },
          "metadata": {}
        }
      ]
    },
    {
      "cell_type": "code",
      "source": [
        "# Pie plot untuk Education Level\n",
        "pp2 = labels = df['Education_Level'].value_counts().index\n",
        "pp2 = sizes = df['Education_Level'].value_counts().values\n",
        "op2 = plt.pie(sizes, labels=labels, autopct='%1.1f%%')\n",
        "pp2 = plt.title('Proporsi Jumlah Pelanggan Berdasarkan Kategori Education_Level')\n",
        "pp2 = plt.axis('equal')"
      ],
      "metadata": {
        "colab": {
          "base_uri": "https://localhost:8080/",
          "height": 269
        },
        "id": "ufxJMGNmWW9g",
        "outputId": "420e783c-c551-46d5-ca35-1ddfd9c7c3f9"
      },
      "execution_count": null,
      "outputs": [
        {
          "output_type": "display_data",
          "data": {
            "text/plain": [
              "<Figure size 432x288 with 1 Axes>"
            ],
            "image/png": "[encoded data removed]"
          },
          "metadata": {}
        }
      ]
    },
    {
      "cell_type": "markdown",
      "source": [
        "### Opsional (Nilai Plus)"
      ],
      "metadata": {
        "id": "rNiY6kMdQlqj"
      }
    },
    {
      "cell_type": "code",
      "source": [
        "# Buatlah visualisasi boxplot Credit Card Limit dengan Jenis Kelamin sebagai pemisahnya (color)\n",
        "\n",
        "bp1 = sns.boxplot(x='Gender', y='Credit_Limit', data=df)\n",
        "bp1 = plt.title('Box Plot Credit Card Limit Berdasarkan Gender')\n",
        "bp1"
      ],
      "metadata": {
        "id": "S5YG0MSeQpKh",
        "colab": {
          "base_uri": "https://localhost:8080/",
          "height": 312
        },
        "outputId": "ac33f098-1738-403c-f913-c6132abf513e"
      },
      "execution_count": null,
      "outputs": [
        {
          "output_type": "execute_result",
          "data": {
            "text/plain": [
              "Text(0.5, 1.0, 'Box Plot Credit Card Limit Berdasarkan Gender')"
            ]
          },
          "metadata": {},
          "execution_count": 75
        },
        {
          "output_type": "display_data",
          "data": {
            "text/plain": [
              "<Figure size 432x288 with 1 Axes>"
            ],
            "image/png": "[encoded data removed]"
          },
          "metadata": {
            "needs_background": "light"
          }
        }
      ]
    },
    {
      "cell_type": "code",
      "source": [
        "# Buatlah visualisasi boxplot Credit Card Limit dengan Attrition Flag sebagai pemisahnya (color)\n",
        "\n",
        "bp2 = sns.boxplot(x='Attrition_Flag', y='Credit_Limit', data=df)\n",
        "bp2 = plt.title('Box Plot Credit Card Limit Berdasarkan Attrition Flag')\n",
        "bp2"
      ],
      "metadata": {
        "id": "T1b84fGPQ4OZ",
        "colab": {
          "base_uri": "https://localhost:8080/",
          "height": 313
        },
        "outputId": "2509aaac-cfd9-41ae-c715-1de108e353e0"
      },
      "execution_count": null,
      "outputs": [
        {
          "output_type": "execute_result",
          "data": {
            "text/plain": [
              "Text(0.5, 1.0, 'Box Plot Credit Card Limit Berdasarkan Attrition Flag')"
            ]
          },
          "metadata": {},
          "execution_count": 81
        },
        {
          "output_type": "display_data",
          "data": {
            "text/plain": [
              "<Figure size 432x288 with 1 Axes>"
            ],
            "image/png": "[encoded data removed]"
          },
          "metadata": {
            "needs_background": "light"
          }
        }
      ]
    },
    {
      "cell_type": "code",
      "source": [
        "# Buatlah visualisasi boxplot Age dengan Attrition Flag sebagai pemisahnya (color)\n",
        "\n",
        "bp3 = sns.boxplot(x='Attrition_Flag', y='Customer_Age', data=df)\n",
        "bp3 = plt.title('Box Plot Age Berdasarkan Attrition Flag')\n",
        "bp3"
      ],
      "metadata": {
        "id": "9VGH1FdjQ_i4",
        "colab": {
          "base_uri": "https://localhost:8080/",
          "height": 313
        },
        "outputId": "1cf7da39-706c-4050-9b3f-f58596eac1fd"
      },
      "execution_count": null,
      "outputs": [
        {
          "output_type": "execute_result",
          "data": {
            "text/plain": [
              "Text(0.5, 1.0, 'Box Plot Age Berdasarkan Attrition Flag')"
            ]
          },
          "metadata": {},
          "execution_count": 80
        },
        {
          "output_type": "display_data",
          "data": {
            "text/plain": [
              "<Figure size 432x288 with 1 Axes>"
            ],
            "image/png": "[encoded data removed]"
          },
          "metadata": {
            "needs_background": "light"
          }
        }
      ]
    },
    {
      "cell_type": "code",
      "source": [
        "# Buatlah visualisasi countplot  Attrition Flag dengan jenis kelamin sebagai pemisahnya (color)\n",
        "\n",
        "cp2 = sns.countplot(x='Attrition_Flag', hue='Gender', data=df)\n",
        "cp2 = plt.title('Jumlah Pelanggan Berdasarkan Attrition Flag dan Jenis Kelamin')\n",
        "cp2"
      ],
      "metadata": {
        "id": "lkh33qRARKup",
        "colab": {
          "base_uri": "https://localhost:8080/",
          "height": 313
        },
        "outputId": "63cbe09e-ba32-4032-d393-a27058522bf5"
      },
      "execution_count": null,
      "outputs": [
        {
          "output_type": "execute_result",
          "data": {
            "text/plain": [
              "Text(0.5, 1.0, 'Jumlah Pelanggan Berdasarkan Attrition Flag dan Jenis Kelamin')"
            ]
          },
          "metadata": {},
          "execution_count": 82
        },
        {
          "output_type": "display_data",
          "data": {
            "text/plain": [
              "<Figure size 432x288 with 1 Axes>"
            ],
            "image/png": "[encoded data removed]"
          },
          "metadata": {
            "needs_background": "light"
          }
        }
      ]
    },
    {
      "cell_type": "code",
      "source": [
        "# Buatlah visualisasi heatmap untuk Setiap variabel numerik yang ada\n",
        "\n",
        "hm1 = numeric_cols = ['Unnamed: 0','CLIENTNUM','Customer_Age', 'Income_Category', 'Credit_Limit']\n",
        "hm1 = sns.heatmap(df[numeric_cols].corr(), annot=True, cmap='coolwarm')\n",
        "hm1 = plt.title('Heatmap Korelasi Variabel Numerik')\n",
        "hm1"
      ],
      "metadata": {
        "id": "BmcfGNL1Rdb_",
        "colab": {
          "base_uri": "https://localhost:8080/",
          "height": 299
        },
        "outputId": "0f73c1f4-7614-40c9-c586-709a2aeb3d40"
      },
      "execution_count": 20,
      "outputs": [
        {
          "output_type": "execute_result",
          "data": {
            "text/plain": [
              "Text(0.5, 1.0, 'Heatmap Korelasi Variabel Numerik')"
            ]
          },
          "metadata": {},
          "execution_count": 20
        },
        {
          "output_type": "display_data",
          "data": {
            "text/plain": [
              "<Figure size 432x288 with 2 Axes>"
            ],
            "image/png": "[encoded data removed]"
          },
          "metadata": {
            "needs_background": "light"
          }
        }
      ]
    },
    {
      "cell_type": "markdown",
      "source": [
        "## Algoritma Naive Bayes dan Preprocessing (pengenalan)"
      ],
      "metadata": {
        "id": "2W-0dXGMRm5g"
      }
    },
    {
      "cell_type": "code",
      "source": [
        "# sebelum membuat algoritma pertama tama buatlah dataset baru dengan ketentuan\n",
        "# mengambil dataset df\n",
        "# Menghapus kolom Unnamed: 0, CLIENTNUM, Umur, dan Limit Kartu Kredit (initinya yang berupa primary key dan bukan tipe kategori)\n",
        "# dataset dengan kolom yang sudah dihapus tadi kemudian disimpan di dataframe baru (df baru)"
      ],
      "metadata": {
        "id": "dr9RJsatR35G"
      },
      "execution_count": 13,
      "outputs": []
    },
    {
      "cell_type": "code",
      "source": [
        "# Buatlah sebuah fungsi naive bayes dengan ketentuan\n",
        "# Mengambil data dari dataframe yang telah diproses pada blok sebelumnya (diatas)\n",
        "# Nama fungsinya adalah naive_bayes\n",
        "# Mengambil 1 saja parameter yaitu sebuah list berisi kategori\n",
        "# Outputnya berupa prediksi Attrited Customer atau Existing Customer\n",
        "# Outputnya berupa tuple (_hasilnya, persentasenya berapa) contoh (Existing Customer, 0.004)\n",
        "# Tidak boleh menggunakan library manapun selain pandas dan numpy\n",
        "\n",
        "# contoh\n",
        "# def naive_bayes(prediksi:list)-> tuple :\n",
        "#   ........\n",
        "# jadi nanti saat saya coba masukan data \n",
        "# naive_bayes([\"F\",\t\"Uneducated\",\"Single\", \"Unknown\tBlue\"]) akan keluar tuple berupa (\"Attired Customer\", 0.002)"
      ],
      "metadata": {
        "id": "2EgdoQwHSasF"
      },
      "execution_count": 5,
      "outputs": []
    },
    {
      "cell_type": "code",
      "source": [
        "df6 = df.drop(['Unnamed: 0','CLIENTNUM','Customer_Age','Credit_Limit'] , axis=1)\n",
        "def naive_bayes(categories):\n",
        "    total = len(df6)\n",
        "    target_counts = df6['Attrition_Flag'].value_counts()\n",
        "    existing_count = target_counts['Existing Customer']\n",
        "    attrited_count = target_counts['Attrited Customer']\n",
        "\n",
        "    existing_likelihood = 1\n",
        "    attrited_likelihood = 1\n",
        "\n",
        "    for key, value in categories.items():\n",
        "      existing_likelihood = (len(df6[(df6[key] == value) & (df6['Attrition_Flag'] == 'Existing Customer')]) / existing_count)\n",
        "      attrited_likelihood = (len(df6[(df6[key] == value) & (df6['Attrition_Flag'] == 'Attrited Customer')]) / attrited_count)\n",
        "    \n",
        "    existing_posterior = existing_likelihood * (existing_count / total)\n",
        "    attrited_posterior = attrited_likelihood * (attrited_count / total)\n",
        "\n",
        "    if existing_posterior > attrited_posterior:\n",
        "      return ('Existing Customer', round(existing_posterior, 3))\n",
        "    else:\n",
        "      return ('Attrited Customer', round(attrited_posterior, 3))"
      ],
      "metadata": {
        "id": "obRFtnjWpZ_E"
      },
      "execution_count": 47,
      "outputs": []
    },
    {
      "cell_type": "code",
      "source": [
        "    hasil = naive_bayes({'Gender': 'F', 'Education_Level':'High School'})\n",
        "    \n",
        "    hasil"
      ],
      "metadata": {
        "colab": {
          "base_uri": "https://localhost:8080/"
        },
        "id": "m_oBmJQyuyUP",
        "outputId": "aed77b5b-b891-4774-cae6-8995150d1bd9"
      },
      "execution_count": 48,
      "outputs": [
        {
          "output_type": "execute_result",
          "data": {
            "text/plain": [
              "('Attrited Customer', 0.1)"
            ]
          },
          "metadata": {},
          "execution_count": 48
        }
      ]
    }
  ]
}